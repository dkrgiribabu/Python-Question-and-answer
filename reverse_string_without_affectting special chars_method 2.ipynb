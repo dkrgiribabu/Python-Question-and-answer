{
 "cells": [
  {
   "cell_type": "code",
   "execution_count": 4,
   "id": "1775b780",
   "metadata": {},
   "outputs": [],
   "source": [
    "def seperate_alpha():\n",
    "    text_alpha=[i for i in text_list if i in alpha_list ]\n",
    "    text_nochar=[i for i in text_list if i not in alpha_list]\n",
    "    return(text_alpha,text_nochar)"
   ]
  },
  {
   "cell_type": "code",
   "execution_count": 7,
   "id": "90443a3f",
   "metadata": {},
   "outputs": [
    {
     "name": "stdout",
     "output_type": "stream",
     "text": [
      "original string:Test1ngLeet=code-Q!\n",
      "reversed string: QedocteeLgn=1tse-T!\n"
     ]
    }
   ],
   "source": [
    "alpha_list= [chr(ord('A') + i) for i in range(26)]+[chr(ord('a')+i) for i in range(26)]+[chr(ord('0')+i) for i in range(9)]\n",
    "\n",
    "text='Test1ngLeet=code-Q!'\n",
    "text_list=[i for i in text]\n",
    "seperate_alpha()\n",
    "reversd=text_alpha[::-1]\n",
    "\n",
    "for i in range(len(text_list)):\n",
    "    for j in range(len(text_nochar)):\n",
    "        if text_nochar[j]!=text_list[i]:\n",
    "            continue\n",
    "        else:\n",
    "            reversd.insert(i,text_nochar[j])\n",
    "reversd=''.join(reversd)\n",
    "print(f\"original string:{text}\\nreversed string: {reversd}\")"
   ]
  },
  {
   "cell_type": "code",
   "execution_count": 2,
   "id": "7d17b0e9",
   "metadata": {},
   "outputs": [],
   "source": []
  },
  {
   "cell_type": "code",
   "execution_count": null,
   "id": "123a88f7",
   "metadata": {},
   "outputs": [],
   "source": []
  }
 ],
 "metadata": {
  "kernelspec": {
   "display_name": "Python 3 (ipykernel)",
   "language": "python",
   "name": "python3"
  },
  "language_info": {
   "codemirror_mode": {
    "name": "ipython",
    "version": 3
   },
   "file_extension": ".py",
   "mimetype": "text/x-python",
   "name": "python",
   "nbconvert_exporter": "python",
   "pygments_lexer": "ipython3",
   "version": "3.9.13"
  }
 },
 "nbformat": 4,
 "nbformat_minor": 5
}
