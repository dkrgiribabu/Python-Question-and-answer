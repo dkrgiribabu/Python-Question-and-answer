{
 "cells": [
  {
   "cell_type": "code",
   "execution_count": 1,
   "id": "11b23b8f",
   "metadata": {},
   "outputs": [
    {
     "name": "stdout",
     "output_type": "stream",
     "text": [
      "Enter the number of items: 3\n",
      "Enter item 1 name: laptop\n",
      "Enter price for item 1: 50000\n",
      "Enter quantity for item 1: 2\n",
      "Enter item 2 name: headset\n",
      "Enter price for item 2: 3000\n",
      "Enter quantity for item 2: 1\n",
      "Enter item 3 name: monitor\n",
      "Enter price for item 3: 35000\n",
      "Enter quantity for item 3: 1\n",
      "\n",
      "Entered items:\n",
      "Item: laptop, Price: $50000.0, Quantity: 2\n",
      "Item: headset, Price: $3000.0, Quantity: 1\n",
      "Item: monitor, Price: $35000.0, Quantity: 1\n",
      "Enter the name of the item to remove: none\n",
      "\n",
      "none is not in the list.\n",
      "\n",
      "Total amount to be paid: $ 138000.0\n"
     ]
    }
   ],
   "source": [
    "### Question: to take items , price and qty as input and calculate total amount.\n",
    "\n",
    "# Initialize empty lists to store item names, prices, and quantities\n",
    "item_names = []\n",
    "item_prices = []\n",
    "item_quantities = []\n",
    "\n",
    "# Take input for items\n",
    "num_items = int(input(\"Enter the number of items: \"))\n",
    "for i in range(num_items):\n",
    "    item_name = input(f\"Enter item {i+1} name: \")\n",
    "    item_price = float(input(f\"Enter price for item {i+1}: \"))\n",
    "    item_qty = int(input(f\"Enter quantity for item {i+1}: \"))\n",
    "\n",
    "    # Append item details to respective lists\n",
    "    item_names.append(item_name)\n",
    "    item_prices.append(item_price)\n",
    "    item_quantities.append(item_qty)\n",
    "\n",
    "# Print the entered items\n",
    "print(\"\\nEntered items:\")\n",
    "for name, price, qty in zip(item_names, item_prices, item_quantities):\n",
    "    print(f\"Item: {name}, Price: ${price}, Quantity: {qty}\")\n",
    "\n",
    "# Remove unwanted item\n",
    "unwanted_item = input(\"Enter the name of the item to remove: \")\n",
    "if unwanted_item in item_names:\n",
    "    index = item_names.index(unwanted_item)\n",
    "    del item_names[index]\n",
    "    del item_prices[index]\n",
    "    del item_quantities[index]\n",
    "    print(f\"\\n{unwanted_item} has been removed.\")\n",
    "else:\n",
    "    print(f\"\\n{unwanted_item} is not in the list.\")\n",
    "\n",
    "# Generate total amount to be paid\n",
    "total_amount = 0\n",
    "for price, qty in zip(item_prices, item_quantities):\n",
    "    total_amount += price * qty\n",
    "\n",
    "# Print the total amount\n",
    "print(\"\\nTotal amount to be paid: $\", total_amount)\n"
   ]
  },
  {
   "cell_type": "code",
   "execution_count": 2,
   "id": "42a469f5",
   "metadata": {},
   "outputs": [
    {
     "name": "stdout",
     "output_type": "stream",
     "text": [
      "Enter the number of items: 2\n",
      "Enter item 1 name: laptop\n",
      "Enter item 2 name: 90000\n",
      "Enter price for item 1: 90000\n",
      "Enter price for item 2: 34000\n",
      "Enter quantity for item 1: 1\n",
      "Enter quantity for item 2: 2\n",
      "\n",
      "Entered items:\n",
      "Item: laptop, Price: $90000.0, Quantity: 1\n",
      "Item: 90000, Price: $34000.0, Quantity: 2\n",
      "Enter the name of the item to remove: 90000\n",
      "\n",
      "90000 has been removed.\n",
      "\n",
      "Total amount to be paid: $ 90000.0\n"
     ]
    }
   ],
   "source": [
    "# Take input for items\n",
    "num_items = int(input(\"Enter the number of items: \"))\n",
    "item_names = [input(f\"Enter item {i+1} name: \") for i in range(num_items)]\n",
    "item_prices = [float(input(f\"Enter price for item {i+1}: \")) for i in range(num_items)]\n",
    "item_quantities = [int(input(f\"Enter quantity for item {i+1}: \")) for i in range(num_items)]\n",
    "\n",
    "# Print the entered items\n",
    "print(\"\\nEntered items:\")\n",
    "[print(f\"Item: {name}, Price: ${price}, Quantity: {qty}\") for name, price, qty in zip(item_names, item_prices, item_quantities)]\n",
    "\n",
    "# Remove unwanted item\n",
    "unwanted_item = input(\"Enter the name of the item to remove: \")\n",
    "if unwanted_item in item_names:\n",
    "    index = item_names.index(unwanted_item)\n",
    "    del item_names[index]\n",
    "    del item_prices[index]\n",
    "    del item_quantities[index]\n",
    "    print(f\"\\n{unwanted_item} has been removed.\")\n",
    "else:\n",
    "    print(f\"\\n{unwanted_item} is not in the list.\")\n",
    "\n",
    "# Generate total amount to be paid\n",
    "total_amount = sum([price * qty for price, qty in zip(item_prices, item_quantities)])\n",
    "\n",
    "# Print the total amount\n",
    "print(\"\\nTotal amount to be paid: $\", total_amount)"
   ]
  },
  {
   "cell_type": "code",
   "execution_count": null,
   "id": "5a5f835b",
   "metadata": {},
   "outputs": [],
   "source": []
  }
 ],
 "metadata": {
  "kernelspec": {
   "display_name": "Python 3 (ipykernel)",
   "language": "python",
   "name": "python3"
  },
  "language_info": {
   "codemirror_mode": {
    "name": "ipython",
    "version": 3
   },
   "file_extension": ".py",
   "mimetype": "text/x-python",
   "name": "python",
   "nbconvert_exporter": "python",
   "pygments_lexer": "ipython3",
   "version": "3.9.13"
  }
 },
 "nbformat": 4,
 "nbformat_minor": 5
}
