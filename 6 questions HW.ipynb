{
 "cells": [
  {
   "cell_type": "code",
   "execution_count": 51,
   "id": "0e1447ff",
   "metadata": {},
   "outputs": [
    {
     "name": "stdout",
     "output_type": "stream",
     "text": [
      "enter the number5\n",
      "factorial of: 5 is: 120\n"
     ]
    }
   ],
   "source": [
    "#### factorial of a given number using for loop and range function\n",
    "n=int(input('enter the number'))\n",
    "def factr(n):\n",
    "    x= 1\n",
    "    for i in range(1,n+1):\n",
    "        x=i*x\n",
    "    return x\n",
    "print('factorial of:',n,'is:',factr(n))\n",
    "    "
   ]
  },
  {
   "cell_type": "code",
   "execution_count": 92,
   "id": "89a8d0bf",
   "metadata": {},
   "outputs": [
    {
     "name": "stdout",
     "output_type": "stream",
     "text": [
      "2\n",
      "6\n",
      "24\n",
      "120\n",
      "factorial of n= 5 is 120\n"
     ]
    }
   ],
   "source": [
    "#### factorial of a given number using if condition\n",
    "n=5\n",
    "def fact(n):\n",
    "    #print(n)\n",
    "    if (n==1):\n",
    "        return 1\n",
    "    else:\n",
    "        f=n*fact(n-1)\n",
    "        print(f)\n",
    "        return(f)\n",
    "print('factorial of n=',n,'is',fact(n))"
   ]
  },
  {
   "cell_type": "code",
   "execution_count": 55,
   "id": "2747bdf8",
   "metadata": {},
   "outputs": [
    {
     "name": "stdout",
     "output_type": "stream",
     "text": [
      "5\n",
      "None\n"
     ]
    }
   ],
   "source": [
    "# Doubt in this.\n",
    "n=5\n",
    "def fact(n):\n",
    "    print(n)\n",
    "    if (n==1):\n",
    "        return 1\n",
    "print(fact(n))"
   ]
  },
  {
   "cell_type": "code",
   "execution_count": 80,
   "id": "bfc7f69c",
   "metadata": {},
   "outputs": [
    {
     "name": "stdout",
     "output_type": "stream",
     "text": [
      "[1, 2, 4, 8]\n"
     ]
    }
   ],
   "source": [
    "# insert an element in a list as by comparing the values \n",
    "list = [2, 4, 8]\n",
    "n = 1  # the element we want to insert\n",
    "def insert_elet(list, n):\n",
    " \n",
    "    index = len(list)\n",
    "    for i in range(index):  # Searching for the position\n",
    "        if list[i] > n:\n",
    "            index = i\n",
    "            break\n",
    " \n",
    "    if index == len(list):  # Inserting n in the list\n",
    "        list = list[:index] + [n]\n",
    "    else:\n",
    "        list = list[:index] + [n] + list[index:]\n",
    "    return list\n",
    " \n",
    "# Driver function\n",
    "print(insert_elet(list, n))"
   ]
  },
  {
   "cell_type": "code",
   "execution_count": 94,
   "id": "24defc22",
   "metadata": {},
   "outputs": [
    {
     "name": "stdout",
     "output_type": "stream",
     "text": [
      "The original list is : [4, 5, 6, 3, 9]\n",
      "The list to be inserted is : [2, 1]\n",
      "The list after insertion is : [4, 5, 2, 1, 6, 3, 9]\n"
     ]
    }
   ],
   "source": [
    "### To insert a list into another list ###\n",
    "test_list = [4, 5, 6, 3, 9]\n",
    "insert_list = [2, 1] # list wanted to insert. \n",
    "pos = 2 # position to insert the list at , this refers to the index order in a list. \n",
    "\n",
    "def insert_list_recursive(test_list, insert_list, pos, i=0):\n",
    "    if i == len(insert_list):\n",
    "        return test_list\n",
    "    \n",
    "    else:\n",
    "        test_list.insert(i + pos, insert_list[i])\n",
    "        return(insert_list_recursive(test_list, insert_list, pos, i+1))\n",
    " \n",
    " \n",
    "print (\"The original list is : \" + str(test_list))\n",
    "print (\"The list to be inserted is : \" + str(insert_list))\n",
    " \n",
    "#using recursive function to insert one list in another\n",
    "test_list = insert_list_recursive(test_list, insert_list, pos)\n",
    " \n",
    "print (\"The list after insertion is : \" + str(test_list))"
   ]
  },
  {
   "cell_type": "code",
   "execution_count": null,
   "id": "fb4502dc",
   "metadata": {},
   "outputs": [],
   "source": [
    "#### to calculate the SI and TA from inputs####\n",
    "def total_amnt(a,b,c):\n",
    "    \n",
    "    i = p*t*r\n",
    "    l = i/100\n",
    "    total_amount=l+p\n",
    "    return(total_amount)\n",
    "p=float(input(\"Principle amoun: \"))\n",
    "r=int(input(\"Rate of interest: \"))\n",
    "t= 1\n",
    "n=int(input('No.of installments:'))\n",
    "print('Total amoun:',total_amnt(p,t,r))\n",
    "print('amount per installment:',total_amnt(p,t,r)/n)"
   ]
  },
  {
   "cell_type": "code",
   "execution_count": 18,
   "id": "0a7b8f81",
   "metadata": {},
   "outputs": [
    {
     "name": "stdout",
     "output_type": "stream",
     "text": [
      "enter name:A\n",
      "48\n",
      "56\n",
      "49\n",
      "A : [48, 56, 49] \n",
      "\n",
      "enter name:B\n",
      "100\n",
      "58\n",
      "98\n",
      "B : [100, 58, 98] \n",
      "\n",
      "[[48, 56, 49], [100, 58, 98]]\n"
     ]
    }
   ],
   "source": [
    "# to take name and marks as input\n",
    "def list_input(a):\n",
    "    lst=[]\n",
    "    for i in range(0, 3):\n",
    "        ele = int(input())\n",
    "        lst.append(ele)\n",
    "    return(lst)\n",
    "#output statements\n",
    "n=1\n",
    "#lst = []\n",
    "x=[]\n",
    "while n<=2:\n",
    "    name=input('enter name:')\n",
    "    y=list_input('lst')\n",
    "    print(name,':',y,'\\n')\n",
    "    n=n+1\n",
    "    x.append(y)\n",
    "print(x)"
   ]
  },
  {
   "cell_type": "code",
   "execution_count": 19,
   "id": "511f0494",
   "metadata": {},
   "outputs": [],
   "source": [
    "def compare_mark():\n",
    "    for i in x[1]:\n",
    "        print(x[1])\n",
    "        if i < 50:\n",
    "            return 0\n",
    "        else:\n",
    "            return 1\n",
    "    #op=[0 for i in x[0] if i<50 else 1]"
   ]
  },
  {
   "cell_type": "code",
   "execution_count": 20,
   "id": "d009e810",
   "metadata": {},
   "outputs": [
    {
     "name": "stdout",
     "output_type": "stream",
     "text": [
      "[0, 1, 0]\n"
     ]
    }
   ],
   "source": [
    "op=[0 if i<50 else 1 for i in x[0]]\n",
    "print(op)"
   ]
  },
  {
   "cell_type": "code",
   "execution_count": 21,
   "id": "977a6e85",
   "metadata": {},
   "outputs": [
    {
     "name": "stdout",
     "output_type": "stream",
     "text": [
      "[100, 58, 98]\n",
      "1\n",
      "not selected\n"
     ]
    }
   ],
   "source": [
    "print(compare_mark())\n",
    "if compare_mark==0:\n",
    "    print('selected')\n",
    "else:\n",
    "    print('not selected')"
   ]
  },
  {
   "cell_type": "code",
   "execution_count": 22,
   "id": "1d1300ca",
   "metadata": {},
   "outputs": [
    {
     "name": "stdout",
     "output_type": "stream",
     "text": [
      "['not selected']\n"
     ]
    }
   ],
   "source": [
    "#List comprehension\n",
    "y=['selected' if compare_mark==0 else 'not selected']\n",
    "print(y)"
   ]
  },
  {
   "cell_type": "code",
   "execution_count": null,
   "id": "f81c15c8",
   "metadata": {},
   "outputs": [],
   "source": []
  }
 ],
 "metadata": {
  "kernelspec": {
   "display_name": "Python 3 (ipykernel)",
   "language": "python",
   "name": "python3"
  },
  "language_info": {
   "codemirror_mode": {
    "name": "ipython",
    "version": 3
   },
   "file_extension": ".py",
   "mimetype": "text/x-python",
   "name": "python",
   "nbconvert_exporter": "python",
   "pygments_lexer": "ipython3",
   "version": "3.9.13"
  }
 },
 "nbformat": 4,
 "nbformat_minor": 5
}
