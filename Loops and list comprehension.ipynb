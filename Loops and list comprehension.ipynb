{
 "cells": [
  {
   "cell_type": "code",
   "execution_count": 21,
   "id": "448285d9",
   "metadata": {},
   "outputs": [
    {
     "name": "stdout",
     "output_type": "stream",
     "text": [
      "doof\n"
     ]
    }
   ],
   "source": [
    "sents=\"food\"\n",
    "r_string=\"\"\n",
    "for element in sents:\n",
    "    r_string=element+r_string\n",
    "print(r_string)"
   ]
  },
  {
   "cell_type": "code",
   "execution_count": 4,
   "id": "7659f212",
   "metadata": {},
   "outputs": [
    {
     "name": "stdout",
     "output_type": "stream",
     "text": [
      "['f', 'o', 'o', 'd']\n"
     ]
    }
   ],
   "source": [
    "####tried using the list comprehension\n",
    "sents='food'\n",
    "r_string=''\n",
    "r_string=[r_string+e for e in sents]\n",
    "print(r_string)"
   ]
  },
  {
   "cell_type": "code",
   "execution_count": 19,
   "id": "8b0b60d1",
   "metadata": {},
   "outputs": [
    {
     "name": "stdout",
     "output_type": "stream",
     "text": [
      "wolleh\n"
     ]
    }
   ],
   "source": [
    "s='hellow'\n",
    "rs=\"\"\n",
    "for a in s:\n",
    "    rs=a+rs\n",
    "print(rs)"
   ]
  },
  {
   "cell_type": "code",
   "execution_count": 2,
   "id": "48b41557",
   "metadata": {},
   "outputs": [
    {
     "name": "stdout",
     "output_type": "stream",
     "text": [
      "['h', 'e', 'l', 'l', 'o', '!']\n"
     ]
    }
   ],
   "source": [
    "#### tried using the list comprehension\n",
    "s='hello!'\n",
    "rs=''\n",
    "print([a for a in s])"
   ]
  },
  {
   "cell_type": "code",
   "execution_count": 88,
   "id": "5e07b30b",
   "metadata": {},
   "outputs": [
    {
     "name": "stdout",
     "output_type": "stream",
     "text": [
      "iH\n"
     ]
    }
   ],
   "source": [
    "os=\"Hi\"\n",
    "rs=\"\"\n",
    "index=len(os)\n",
    "for char in os:\n",
    "    #index+=index\n",
    "    rs=char+rs\n",
    "print(rs)"
   ]
  },
  {
   "cell_type": "code",
   "execution_count": 11,
   "id": "3c8c1643",
   "metadata": {},
   "outputs": [],
   "source": [
    "num = [1,2,3,4,5,6]"
   ]
  },
  {
   "cell_type": "code",
   "execution_count": 13,
   "id": "72f78f5e",
   "metadata": {},
   "outputs": [],
   "source": [
    "def even():\n",
    "    for i in num:\n",
    "        if(i%2==0):\n",
    "            return i"
   ]
  },
  {
   "cell_type": "code",
   "execution_count": 43,
   "id": "9123fe9e",
   "metadata": {},
   "outputs": [
    {
     "data": {
      "text/plain": [
       "2"
      ]
     },
     "execution_count": 43,
     "metadata": {},
     "output_type": "execute_result"
    }
   ],
   "source": [
    "even()"
   ]
  },
  {
   "cell_type": "code",
   "execution_count": 14,
   "id": "5ad316b7",
   "metadata": {},
   "outputs": [
    {
     "name": "stdout",
     "output_type": "stream",
     "text": [
      "[2, 4, 6]\n"
     ]
    }
   ],
   "source": [
    "# printing even from a give list\n",
    "x=[i for i in num if (i%2==0)]\n",
    "print(x)"
   ]
  },
  {
   "cell_type": "code",
   "execution_count": 9,
   "id": "75977964",
   "metadata": {},
   "outputs": [],
   "source": [
    "list_one='1,2,3'\n",
    "def reverse_list():\n",
    "    reverse_list= ''\n",
    "    for i in list_one:\n",
    "        reverse_list=i+reverse_list\n",
    "        \n",
    "    return reverse_list"
   ]
  },
  {
   "cell_type": "code",
   "execution_count": 10,
   "id": "03ae335e",
   "metadata": {},
   "outputs": [
    {
     "data": {
      "text/plain": [
       "'3,2,1'"
      ]
     },
     "execution_count": 10,
     "metadata": {},
     "output_type": "execute_result"
    }
   ],
   "source": [
    "reverse_list()"
   ]
  },
  {
   "cell_type": "code",
   "execution_count": null,
   "id": "e6f7339f",
   "metadata": {},
   "outputs": [],
   "source": []
  },
  {
   "cell_type": "code",
   "execution_count": 48,
   "id": "a3df6a0f",
   "metadata": {},
   "outputs": [
    {
     "name": "stdout",
     "output_type": "stream",
     "text": [
      "['h', 'ello']\n",
      "['ello', 'h']\n"
     ]
    }
   ],
   "source": [
    "car=['h','ello']\n",
    "print(car)\n",
    "car.reverse()\n",
    "print(car)"
   ]
  },
  {
   "cell_type": "code",
   "execution_count": null,
   "id": "97b74bdb",
   "metadata": {},
   "outputs": [],
   "source": []
  }
 ],
 "metadata": {
  "kernelspec": {
   "display_name": "Python 3 (ipykernel)",
   "language": "python",
   "name": "python3"
  },
  "language_info": {
   "codemirror_mode": {
    "name": "ipython",
    "version": 3
   },
   "file_extension": ".py",
   "mimetype": "text/x-python",
   "name": "python",
   "nbconvert_exporter": "python",
   "pygments_lexer": "ipython3",
   "version": "3.9.13"
  }
 },
 "nbformat": 4,
 "nbformat_minor": 5
}
