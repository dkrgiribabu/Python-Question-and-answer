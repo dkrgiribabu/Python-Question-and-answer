{
 "cells": [
  {
   "cell_type": "code",
   "execution_count": 1,
   "id": "e0328b8f",
   "metadata": {},
   "outputs": [
    {
     "name": "stdout",
     "output_type": "stream",
     "text": [
      "Principle amoun: 300000\n",
      "Rate of interest: 24\n",
      "No.of installments:12\n",
      "Total amoun: 372000.0\n",
      "amount per installment: 31000.0\n"
     ]
    }
   ],
   "source": [
    "# to calculate the SI,TA and per installment amount from inputs\n",
    "def total_amnt(a,b,c):\n",
    "    \n",
    "    i = p*t*r\n",
    "    l = i/100\n",
    "    total_amount=l+p\n",
    "    return(total_amount)\n",
    "p=float(input(\"Principle amoun: \"))\n",
    "r=int(input(\"Rate of interest: \"))\n",
    "t= 1\n",
    "n=int(input('No.of installments:'))\n",
    "print('Total amoun:',total_amnt(p,t,r))\n",
    "print('amount per installment:',total_amnt(p,t,r)/n)"
   ]
  },
  {
   "cell_type": "code",
   "execution_count": null,
   "id": "dd35a932",
   "metadata": {},
   "outputs": [],
   "source": []
  }
 ],
 "metadata": {
  "kernelspec": {
   "display_name": "Python 3 (ipykernel)",
   "language": "python",
   "name": "python3"
  },
  "language_info": {
   "codemirror_mode": {
    "name": "ipython",
    "version": 3
   },
   "file_extension": ".py",
   "mimetype": "text/x-python",
   "name": "python",
   "nbconvert_exporter": "python",
   "pygments_lexer": "ipython3",
   "version": "3.9.13"
  }
 },
 "nbformat": 4,
 "nbformat_minor": 5
}
