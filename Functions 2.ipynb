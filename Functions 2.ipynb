{
 "cells": [
  {
   "cell_type": "code",
   "execution_count": 132,
   "id": "a55984d6",
   "metadata": {},
   "outputs": [],
   "source": [
    "def convrter(USD):\n",
    "    rupees=USD*83.11\n",
    "    return rupees"
   ]
  },
  {
   "cell_type": "code",
   "execution_count": 117,
   "id": "147bdee8",
   "metadata": {},
   "outputs": [],
   "source": [
    "def SI(p,t,r):\n",
    "    si=(p*t*r)/100\n",
    "    return si"
   ]
  },
  {
   "cell_type": "code",
   "execution_count": 118,
   "id": "6fad671a",
   "metadata": {},
   "outputs": [
    {
     "data": {
      "text/plain": [
       "40.0"
      ]
     },
     "execution_count": 118,
     "metadata": {},
     "output_type": "execute_result"
    }
   ],
   "source": [
    "SI(1000,2,2)"
   ]
  },
  {
   "cell_type": "code",
   "execution_count": 119,
   "id": "c8b31dcf",
   "metadata": {},
   "outputs": [
    {
     "data": {
      "text/plain": [
       "3324.4"
      ]
     },
     "execution_count": 119,
     "metadata": {},
     "output_type": "execute_result"
    }
   ],
   "source": [
    "convrter(40.0)"
   ]
  },
  {
   "cell_type": "code",
   "execution_count": 120,
   "id": "c9a1ff0d",
   "metadata": {},
   "outputs": [],
   "source": [
    "def BD(name,num):\n",
    "    print(\"Hello\",name+'.This is your intrest money '+num,'INR')\n",
    "    return('end')"
   ]
  },
  {
   "cell_type": "code",
   "execution_count": 121,
   "id": "1f37ecb0",
   "metadata": {},
   "outputs": [
    {
     "name": "stdout",
     "output_type": "stream",
     "text": [
      "Hello Abhi.This is your intrest money 3324.4 INR\n"
     ]
    },
    {
     "data": {
      "text/plain": [
       "'end'"
      ]
     },
     "execution_count": 121,
     "metadata": {},
     "output_type": "execute_result"
    }
   ],
   "source": [
    "BD('Abhi','3324.4')"
   ]
  },
  {
   "cell_type": "code",
   "execution_count": 127,
   "id": "d37b0a0a",
   "metadata": {},
   "outputs": [
    {
     "name": "stdout",
     "output_type": "stream",
     "text": [
      "enter the dimensions of your plot \n",
      "Note: we provide services only for regular figures \n"
     ]
    }
   ],
   "source": [
    "print(\"enter the dimensions of your plot \\nNote: we provide services only for regular figures \")\n",
    "def cost_fence(n,side):\n",
    "    fens_lengt=x*s\n",
    "    return fens_lengt"
   ]
  },
  {
   "cell_type": "code",
   "execution_count": 129,
   "id": "0dbe6516",
   "metadata": {},
   "outputs": [
    {
     "name": "stdout",
     "output_type": "stream",
     "text": [
      "no.of sides 3\n",
      "length of side 2\n"
     ]
    },
    {
     "data": {
      "text/plain": [
       "6"
      ]
     },
     "execution_count": 129,
     "metadata": {},
     "output_type": "execute_result"
    }
   ],
   "source": [
    "x=int(input('no.of sides '))\n",
    "s=int(input('length of side '))\n",
    "cost_fence(x,s)"
   ]
  },
  {
   "cell_type": "code",
   "execution_count": 1,
   "id": "e53a3f38",
   "metadata": {},
   "outputs": [],
   "source": [
    "def slp(y,c,x):\n",
    "    l=(y-c)/x\n",
    "    return('Line slope',l) "
   ]
  },
  {
   "cell_type": "code",
   "execution_count": 2,
   "id": "05c04d75",
   "metadata": {},
   "outputs": [
    {
     "data": {
      "text/plain": [
       "('Line slope', 1.2)"
      ]
     },
     "execution_count": 2,
     "metadata": {},
     "output_type": "execute_result"
    }
   ],
   "source": [
    "slp(10,4,5)"
   ]
  },
  {
   "cell_type": "code",
   "execution_count": null,
   "id": "3076ec10",
   "metadata": {},
   "outputs": [],
   "source": []
  }
 ],
 "metadata": {
  "kernelspec": {
   "display_name": "Python 3 (ipykernel)",
   "language": "python",
   "name": "python3"
  },
  "language_info": {
   "codemirror_mode": {
    "name": "ipython",
    "version": 3
   },
   "file_extension": ".py",
   "mimetype": "text/x-python",
   "name": "python",
   "nbconvert_exporter": "python",
   "pygments_lexer": "ipython3",
   "version": "3.9.13"
  }
 },
 "nbformat": 4,
 "nbformat_minor": 5
}
