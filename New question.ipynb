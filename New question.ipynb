{
 "cells": [
  {
   "cell_type": "code",
   "execution_count": 25,
   "id": "b018609a",
   "metadata": {},
   "outputs": [
    {
     "name": "stdout",
     "output_type": "stream",
     "text": [
      "The above is my question\n"
     ]
    }
   ],
   "source": [
    "\"\"\"\n",
    "Question 1:\n",
    "Given an unsorted array A of size N that contains only non negative integers, find a continuous \n",
    "sub-array that adds to a given number S and return the left and right index(1-based indexing) of that subarray.\n",
    "\n",
    "In case of multiple subarrays, return the subarray indexes which come first on moving from left to right.\n",
    "\n",
    "Note:- You have to return an ArrayList consisting of two elements left and right. In case no such \n",
    "subarray exists return an array consisting of element -1.\n",
    "\n",
    "Example 1:\n",
    "\n",
    "Input:\n",
    "N = 5, S = 12\n",
    "A[] = {1,2,3,7,5}\n",
    "Output: 2 4\n",
    "Explanation: The sum of elements \n",
    "from 2nd position to 4th position \n",
    "is 12.\n",
    "\n",
    "Input:\n",
    "N = 10, S = 15\n",
    "A[] = {1,2,3,4,5,6,7,8,9,10}\n",
    "Output: 1 5\n",
    "Explanation: The sum of elements \n",
    "from 1st position to 5th position\n",
    "is 1 5.\n",
    "\n",
    "Your Task:\n",
    "You don't need to read input or print anything. The task is to complete the function subarraySum() \n",
    "which takes arr, N, and S as input parameters and returns an ArrayList containing the starting and \n",
    "ending positions of the first such occurring subarray from the left where sum equals to S. \n",
    "The two indexes in the array should be according to 1-based indexing. If no such subarray is found, \n",
    "return an array consisting of only one element that is -1.\n",
    "\n",
    "Expected Time Complexity: O(N)\n",
    "Expected Auxiliary Space: O(1)\n",
    "\n",
    "Constraints:\n",
    "1 <= N <= 10^5\n",
    "0 <= Ai <= 10^9\n",
    "0<= S <= 10^9\n",
    "\"\"\"\n",
    "print('The above is my question')"
   ]
  },
  {
   "cell_type": "code",
   "execution_count": 26,
   "id": "600a64b5",
   "metadata": {},
   "outputs": [
    {
     "name": "stdout",
     "output_type": "stream",
     "text": [
      "This is komal Ji's question\n"
     ]
    }
   ],
   "source": [
    "'''\n",
    "Question 2: \n",
    "A permutation of an array of integers is an arrangement of its members into a sequence or linear order.\n",
    "\n",
    "For example, for arr = [1,2,3], the following are all the permutations of arr: [1,2,3], [1,3,2], [2, 1, 3], [2, 3, 1], [3,1,2], [3,2,1].\n",
    "The next permutation of an array of integers is the next lexicographically greater permutation of its integer. More formally, if all the permutations of the array are sorted in one container according to their lexicographical order, then the next permutation of that array is the permutation that follows it in the sorted container. If such arrangement is not possible, the array must be rearranged as the lowest possible order (i.e., sorted in ascending order).\n",
    "\n",
    "For example, the next permutation of arr = [1,2,3] is [1,3,2].\n",
    "Similarly, the next permutation of arr = [2,3,1] is [3,1,2].\n",
    "While the next permutation of arr = [3,2,1] is [1,2,3] because [3,2,1] does not have a lexicographical larger rearrangement.\n",
    "Given an array of integers nums, find the next permutation of nums.\n",
    "\n",
    "The replacement must be in place and use only constant extra memory.\n",
    "\n",
    " \n",
    "\n",
    "Example 1:\n",
    "\n",
    "Input: nums = [1,2,3]\n",
    "Output: [1,3,2]\n",
    "Example 2:\n",
    "\n",
    "Input: nums = [3,2,1]\n",
    "Output: [1,2,3]\n",
    "Example 3:\n",
    "\n",
    "Input: nums = [1,1,5]\n",
    "Output: [1,5,1]\n",
    " \n",
    "\n",
    "Constraints:\n",
    "\n",
    "1 <= nums.length <= 100\n",
    "0 <= nums[i] <= 100\n",
    "'''\n",
    "print(\"This is komal Ji's question\")"
   ]
  },
  {
   "cell_type": "code",
   "execution_count": 11,
   "id": "713951ea",
   "metadata": {},
   "outputs": [
    {
     "ename": "IndexError",
     "evalue": "list index out of range",
     "output_type": "error",
     "traceback": [
      "\u001b[0;31m---------------------------------------------------------------------------\u001b[0m",
      "\u001b[0;31mIndexError\u001b[0m                                Traceback (most recent call last)",
      "Input \u001b[0;32mIn [11]\u001b[0m, in \u001b[0;36m<cell line: 3>\u001b[0;34m()\u001b[0m\n\u001b[1;32m      1\u001b[0m x \u001b[38;5;241m=\u001b[39m \u001b[38;5;28mlist\u001b[39m(\u001b[38;5;124m'\u001b[39m\u001b[38;5;124mamerica\u001b[39m\u001b[38;5;124m'\u001b[39m)\n\u001b[1;32m      2\u001b[0m indexed_x\u001b[38;5;241m=\u001b[39m[x[i\u001b[38;5;241m-\u001b[39m\u001b[38;5;241m1\u001b[39m] \u001b[38;5;28;01mfor\u001b[39;00m i \u001b[38;5;129;01min\u001b[39;00m \u001b[38;5;28mrange\u001b[39m(\u001b[38;5;28mlen\u001b[39m(x))]\n\u001b[0;32m----> 3\u001b[0m \u001b[38;5;28mprint\u001b[39m(indexed_x[i],\u001b[43mx\u001b[49m\u001b[43m[\u001b[49m\u001b[43mi\u001b[49m\u001b[38;5;241;43m+\u001b[39;49m\u001b[38;5;241;43m1\u001b[39;49m\u001b[43m]\u001b[49m)\n",
      "\u001b[0;31mIndexError\u001b[0m: list index out of range"
     ]
    }
   ],
   "source": [
    "x = list('america')\n",
    "indexed_x=[x[i-1] for i in range(len(x))]\n",
    "print(indexed_x[i],x[i+1])"
   ]
  },
  {
   "cell_type": "code",
   "execution_count": 16,
   "id": "2bc54b78",
   "metadata": {},
   "outputs": [
    {
     "name": "stdout",
     "output_type": "stream",
     "text": [
      "1\n",
      "2\n",
      "3\n",
      "4\n",
      "5\n"
     ]
    }
   ],
   "source": [
    "# inserting none at 0 index. However we get the output indices from \n",
    "my_list=[1,2,3,4,5]\n",
    "my_list.insert(0,None)\n",
    "#print(my_list[1])\n",
    "for n in range(1,len(my_list)):\n",
    "    if n==my_list[n]:\n",
    "        print(n)\n",
    "    else:\n",
    "        print('None')"
   ]
  },
  {
   "cell_type": "code",
   "execution_count": 3,
   "id": "47cc718c",
   "metadata": {},
   "outputs": [
    {
     "name": "stdout",
     "output_type": "stream",
     "text": [
      "1a\n",
      "2a\n",
      "3a\n",
      "4a\n",
      "5a\n"
     ]
    }
   ],
   "source": [
    "a = ['1', '2', '3', '4', '5']\n",
    "for i in a:\n",
    "    i = i + 'a'\n",
    "    print(i)"
   ]
  },
  {
   "cell_type": "code",
   "execution_count": 6,
   "id": "800a78f6",
   "metadata": {},
   "outputs": [
    {
     "name": "stdout",
     "output_type": "stream",
     "text": [
      "0\n",
      "1\n",
      "2\n",
      "3\n",
      "4\n"
     ]
    }
   ],
   "source": [
    "a = ['1', '2', '3', '4', '5']\n",
    "for i in range(len(a)):\n",
    "    print(i)"
   ]
  },
  {
   "cell_type": "code",
   "execution_count": 2,
   "id": "87308ae6",
   "metadata": {},
   "outputs": [
    {
     "data": {
      "text/plain": [
       "True"
      ]
     },
     "execution_count": 2,
     "metadata": {},
     "output_type": "execute_result"
    }
   ],
   "source": [
    "def find_subarray(arr, n, required):\n",
    "\n",
    "    for i in range(n):\n",
    "        add = arr[i]\n",
    "        j = i + 1\n",
    "        while j <= n:\n",
    "            if add == required:\n",
    "                return True\n",
    "            if add > required or j == n:\n",
    "                break\n",
    "            add = add + arr[j]\n",
    "            j += 1\n",
    "    return False\n",
    "find_subarray([1,3,5,6,8],5,14)\n",
    "#print(find_subarray())"
   ]
  },
  {
   "cell_type": "code",
   "execution_count": 23,
   "id": "0b512cce",
   "metadata": {},
   "outputs": [],
   "source": []
  },
  {
   "cell_type": "code",
   "execution_count": 24,
   "id": "a0a9ab2c",
   "metadata": {},
   "outputs": [
    {
     "data": {
      "text/plain": [
       "44"
      ]
     },
     "execution_count": 24,
     "metadata": {},
     "output_type": "execute_result"
    }
   ],
   "source": [
    "def sum_of(num,n):\n",
    "    result=0\n",
    "    for a in num:\n",
    "        result+=a\n",
    "    return result\n",
    "sum_of(num)"
   ]
  },
  {
   "cell_type": "code",
   "execution_count": 13,
   "id": "e69db591",
   "metadata": {},
   "outputs": [
    {
     "ename": "UnboundLocalError",
     "evalue": "local variable 'add' referenced before assignment",
     "output_type": "error",
     "traceback": [
      "\u001b[0;31m---------------------------------------------------------------------------\u001b[0m",
      "\u001b[0;31mUnboundLocalError\u001b[0m                         Traceback (most recent call last)",
      "Input \u001b[0;32mIn [13]\u001b[0m, in \u001b[0;36m<cell line: 16>\u001b[0;34m()\u001b[0m\n\u001b[1;32m     14\u001b[0m sub_num\u001b[38;5;241m=\u001b[39m[]\n\u001b[1;32m     15\u001b[0m add\u001b[38;5;241m=\u001b[39m\u001b[38;5;241m0\u001b[39m\n\u001b[0;32m---> 16\u001b[0m \u001b[38;5;28mprint\u001b[39m(\u001b[43msum_of\u001b[49m\u001b[43m(\u001b[49m\u001b[43m)\u001b[49m)\n",
      "Input \u001b[0;32mIn [13]\u001b[0m, in \u001b[0;36msum_of\u001b[0;34m()\u001b[0m\n\u001b[1;32m      1\u001b[0m \u001b[38;5;28;01mdef\u001b[39;00m \u001b[38;5;21msum_of\u001b[39m():\n\u001b[1;32m      2\u001b[0m     \u001b[38;5;28;01mfor\u001b[39;00m i \u001b[38;5;129;01min\u001b[39;00m \u001b[38;5;28mrange\u001b[39m(n):\n\u001b[0;32m----> 3\u001b[0m         add\u001b[38;5;241m+\u001b[39m\u001b[38;5;241m=\u001b[39mi\n\u001b[1;32m      4\u001b[0m         sub_num\u001b[38;5;241m.\u001b[39mappend(num[i])\n\u001b[1;32m      5\u001b[0m     \u001b[38;5;28;01mreturn\u001b[39;00m sub_num\n",
      "\u001b[0;31mUnboundLocalError\u001b[0m: local variable 'add' referenced before assignment"
     ]
    }
   ],
   "source": [
    "def sum_of():\n",
    "    for i in range(n):\n",
    "        add+=i\n",
    "        sub_num.append(num[i])\n",
    "    return sub_num\n",
    "\"\"\"while i>=n:\n",
    "        if add==s:\n",
    "            print(sub_num)\n",
    "        else:\n",
    "            sum_of(num)\"\"\"\n",
    "num=[5,6,2,8,1,3]\n",
    "s=8\n",
    "n=len(num)\n",
    "sub_num=[]\n",
    "add=0\n",
    "print(sum_of())"
   ]
  },
  {
   "cell_type": "code",
   "execution_count": 2,
   "id": "edd6c52f",
   "metadata": {},
   "outputs": [
    {
     "name": "stdout",
     "output_type": "stream",
     "text": [
      "5 1\n"
     ]
    }
   ],
   "source": [
    "#swapping the elements in a list\n",
    "num=[1,2,3,4,5]\n",
    "num[0],num[-1]=num[-1],num[0]\n",
    "print(num[0],num[-1])"
   ]
  },
  {
   "cell_type": "code",
   "execution_count": null,
   "id": "95dcc9cc",
   "metadata": {},
   "outputs": [],
   "source": []
  }
 ],
 "metadata": {
  "kernelspec": {
   "display_name": "Python 3 (ipykernel)",
   "language": "python",
   "name": "python3"
  },
  "language_info": {
   "codemirror_mode": {
    "name": "ipython",
    "version": 3
   },
   "file_extension": ".py",
   "mimetype": "text/x-python",
   "name": "python",
   "nbconvert_exporter": "python",
   "pygments_lexer": "ipython3",
   "version": "3.9.13"
  }
 },
 "nbformat": 4,
 "nbformat_minor": 5
}
