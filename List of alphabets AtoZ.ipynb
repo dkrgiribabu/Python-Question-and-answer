{
 "cells": [
  {
   "cell_type": "code",
   "execution_count": 1,
   "id": "67d9035c",
   "metadata": {},
   "outputs": [
    {
     "name": "stdout",
     "output_type": "stream",
     "text": [
      "['A', 'B', 'C', 'D', 'E', 'F', 'G', 'H', 'I', 'J', 'K', 'L', 'M', 'N', 'O', 'P', 'Q', 'R', 'S', 'T', 'U', 'V', 'W', 'X', 'Y', 'Z']\n"
     ]
    }
   ],
   "source": [
    "# to print list of alphabets 'A' to 'Z'\n",
    "def alpha_list():\n",
    "    x=[]\n",
    "    for i in range(26):\n",
    "        letter = chr(ord('A') + i)\n",
    "        x.append(letter)\n",
    "    return(x)\n",
    "print(alpha_list())"
   ]
  },
  {
   "cell_type": "code",
   "execution_count": 2,
   "id": "35f9a853",
   "metadata": {},
   "outputs": [
    {
     "name": "stdout",
     "output_type": "stream",
     "text": [
      "['a', 'b', 'c', 'd', 'e', 'f', 'g', 'h', 'i', 'j', 'k', 'l', 'm', 'n', 'o', 'p', 'q', 'r', 's', 't', 'u', 'v', 'w', 'x', 'y', 'z']\n"
     ]
    }
   ],
   "source": [
    "def alpha_list():\n",
    "    x=[]\n",
    "    for i in range(26):\n",
    "        letter = chr(ord('a') + i)\n",
    "        x.append(letter)\n",
    "    return(x)\n",
    "print(alpha_list())"
   ]
  },
  {
   "cell_type": "code",
   "execution_count": 3,
   "id": "f07a706e",
   "metadata": {},
   "outputs": [
    {
     "name": "stdout",
     "output_type": "stream",
     "text": [
      "['0', '1', '2', '3', '4', '5', '6', '7', '8', '9']\n"
     ]
    }
   ],
   "source": [
    "def alpha_list():\n",
    "    x=[]\n",
    "    for i in range(10):\n",
    "        letter = chr(ord('0') + i)\n",
    "        x.append(letter)\n",
    "    return(x)\n",
    "print(alpha_list())"
   ]
  },
  {
   "cell_type": "code",
   "execution_count": null,
   "id": "73566e41",
   "metadata": {},
   "outputs": [],
   "source": []
  }
 ],
 "metadata": {
  "kernelspec": {
   "display_name": "Python 3 (ipykernel)",
   "language": "python",
   "name": "python3"
  },
  "language_info": {
   "codemirror_mode": {
    "name": "ipython",
    "version": 3
   },
   "file_extension": ".py",
   "mimetype": "text/x-python",
   "name": "python",
   "nbconvert_exporter": "python",
   "pygments_lexer": "ipython3",
   "version": "3.9.13"
  }
 },
 "nbformat": 4,
 "nbformat_minor": 5
}
