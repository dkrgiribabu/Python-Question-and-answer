{
 "cells": [
  {
   "cell_type": "code",
   "execution_count": 1,
   "id": "bf4dc821",
   "metadata": {},
   "outputs": [],
   "source": [
    "def function(a,s):\n",
    "    #a=['he','is','good']\n",
    "    #s= []\n",
    "    for i in a:\n",
    "        s=i+'giri'\n",
    "        print(s)\n",
    "    return 'end'"
   ]
  },
  {
   "cell_type": "code",
   "execution_count": 2,
   "id": "c9942c8d",
   "metadata": {},
   "outputs": [
    {
     "name": "stdout",
     "output_type": "stream",
     "text": [
      "hegiri\n",
      "isgiri\n",
      "goodgiri\n"
     ]
    },
    {
     "data": {
      "text/plain": [
       "'end'"
      ]
     },
     "execution_count": 2,
     "metadata": {},
     "output_type": "execute_result"
    }
   ],
   "source": [
    "function(['he','is','good'],['giri'])"
   ]
  },
  {
   "cell_type": "code",
   "execution_count": null,
   "id": "5630588b",
   "metadata": {},
   "outputs": [],
   "source": [
    "def function1(a,s):\n",
    "    a=[]\n",
    "    s=[]\n",
    "    for i in a:\n",
    "        s=i+'giri'\n",
    "        print(s)\n",
    "    return 'end'"
   ]
  },
  {
   "cell_type": "code",
   "execution_count": null,
   "id": "72568a29",
   "metadata": {},
   "outputs": [],
   "source": [
    "function1(['he','is','good'],['giri'])"
   ]
  },
  {
   "cell_type": "code",
   "execution_count": null,
   "id": "4c6be135",
   "metadata": {},
   "outputs": [],
   "source": []
  },
  {
   "cell_type": "code",
   "execution_count": null,
   "id": "c96ee696",
   "metadata": {},
   "outputs": [],
   "source": []
  }
 ],
 "metadata": {
  "kernelspec": {
   "display_name": "Python 3 (ipykernel)",
   "language": "python",
   "name": "python3"
  },
  "language_info": {
   "codemirror_mode": {
    "name": "ipython",
    "version": 3
   },
   "file_extension": ".py",
   "mimetype": "text/x-python",
   "name": "python",
   "nbconvert_exporter": "python",
   "pygments_lexer": "ipython3",
   "version": "3.9.13"
  }
 },
 "nbformat": 4,
 "nbformat_minor": 5
}
