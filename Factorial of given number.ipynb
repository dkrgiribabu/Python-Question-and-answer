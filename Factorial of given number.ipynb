{
 "cells": [
  {
   "cell_type": "code",
   "execution_count": 6,
   "id": "5be6cd2b",
   "metadata": {},
   "outputs": [
    {
     "name": "stdout",
     "output_type": "stream",
     "text": [
      "enter the number:4\n",
      "factorial of: 4 is: 24\n"
     ]
    }
   ],
   "source": [
    "n=int(input('enter the number:'))\n",
    "def factr(n):\n",
    "    x= 1\n",
    "    for i in range(1,n+1):\n",
    "        x=i*x\n",
    "    return x\n",
    "print('factorial of:',n,'is:',factr(n))"
   ]
  },
  {
   "cell_type": "code",
   "execution_count": 10,
   "id": "4d25ed1b",
   "metadata": {},
   "outputs": [
    {
     "name": "stdout",
     "output_type": "stream",
     "text": [
      "enter the number:4\n",
      "24\n"
     ]
    }
   ],
   "source": [
    "n=int(input('enter the number:'))\n",
    "def factorial(n):\n",
    "    if n == 0 or n == 1:\n",
    "        return 1\n",
    "    else:\n",
    "        return n * factorial(n-1)\n",
    "\n",
    "factorial_result = factorial(n)\n",
    "print(factorial_result)"
   ]
  }
 ],
 "metadata": {
  "kernelspec": {
   "display_name": "Python 3 (ipykernel)",
   "language": "python",
   "name": "python3"
  },
  "language_info": {
   "codemirror_mode": {
    "name": "ipython",
    "version": 3
   },
   "file_extension": ".py",
   "mimetype": "text/x-python",
   "name": "python",
   "nbconvert_exporter": "python",
   "pygments_lexer": "ipython3",
   "version": "3.9.13"
  }
 },
 "nbformat": 4,
 "nbformat_minor": 5
}
