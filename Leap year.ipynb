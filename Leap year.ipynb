{
 "cells": [
  {
   "cell_type": "code",
   "execution_count": 1,
   "id": "29b09f6e",
   "metadata": {},
   "outputs": [
    {
     "name": "stdout",
     "output_type": "stream",
     "text": [
      "enter the year:2025\n",
      "false\n"
     ]
    }
   ],
   "source": [
    "# To confirm the leap year\n",
    "year = int(input('enter the year:'))\n",
    "def leap_year(a):\n",
    "    \n",
    "    leap = 'false'\n",
    "    if year%4==0:\n",
    "        if year%100==0:\n",
    "            if year%400==0:\n",
    "                leap = 'true'\n",
    "            else:\n",
    "                leap = 'false'\n",
    "        else:\n",
    "            leap ='true'\n",
    "    else:\n",
    "        leap = 'false'\n",
    "    \n",
    "    return(leap)\n",
    "print(leap_year(year))"
   ]
  },
  {
   "cell_type": "code",
   "execution_count": 21,
   "id": "66f1c40d",
   "metadata": {},
   "outputs": [
    {
     "name": "stdout",
     "output_type": "stream",
     "text": [
      "enter the year:2013\n",
      "false\n"
     ]
    }
   ],
   "source": [
    "print(leap_year(year))"
   ]
  },
  {
   "cell_type": "code",
   "execution_count": 5,
   "id": "9a7c0461",
   "metadata": {},
   "outputs": [
    {
     "name": "stdout",
     "output_type": "stream",
     "text": [
      "Principle amoun: 60000\n",
      "Rate of interest: 10\n",
      "No.of installments:60\n",
      "Total amoun: 66000.0\n",
      "amount per installment: 1100.0\n"
     ]
    }
   ],
   "source": [
    "# to calculate the SI and TA from inputs\n",
    "def total_amnt(a,b,c):\n",
    "    \n",
    "    i = p*t*r\n",
    "    l = i/100\n",
    "    total_amount=l+p\n",
    "    return(total_amount)\n",
    "p=float(input(\"Principle amoun: \"))\n",
    "r=int(input(\"Rate of interest: \"))\n",
    "t= 1\n",
    "n=int(input('No.of installments:'))\n",
    "print('Total amoun:',total_amnt(p,t,r))\n",
    "print('amount per installment:',total_amnt(p,t,r)/n)"
   ]
  },
  {
   "cell_type": "code",
   "execution_count": null,
   "id": "9a0c6499",
   "metadata": {},
   "outputs": [],
   "source": []
  },
  {
   "cell_type": "code",
   "execution_count": null,
   "id": "82ed031c",
   "metadata": {},
   "outputs": [],
   "source": []
  }
 ],
 "metadata": {
  "kernelspec": {
   "display_name": "Python 3 (ipykernel)",
   "language": "python",
   "name": "python3"
  },
  "language_info": {
   "codemirror_mode": {
    "name": "ipython",
    "version": 3
   },
   "file_extension": ".py",
   "mimetype": "text/x-python",
   "name": "python",
   "nbconvert_exporter": "python",
   "pygments_lexer": "ipython3",
   "version": "3.9.13"
  }
 },
 "nbformat": 4,
 "nbformat_minor": 5
}
