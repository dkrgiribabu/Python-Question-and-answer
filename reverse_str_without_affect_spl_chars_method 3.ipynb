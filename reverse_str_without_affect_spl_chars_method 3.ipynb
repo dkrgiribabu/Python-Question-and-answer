{
 "cells": [
  {
   "cell_type": "code",
   "execution_count": 16,
   "id": "60df8b65",
   "metadata": {},
   "outputs": [],
   "source": [
    "string=\"Test1ngLeet=code-Q!\""
   ]
  },
  {
   "cell_type": "code",
   "execution_count": 5,
   "id": "afabac4d",
   "metadata": {},
   "outputs": [],
   "source": [
    "def insert_splchars():\n",
    "    for i in range(len(org_str)):\n",
    "        for j in range(len(spl)):\n",
    "            if org_str[i]!=spl[j]:\n",
    "                continue\n",
    "            else:\n",
    "                pos.append(i)\n",
    "                alpha.insert(i,spl[j])\n",
    "    return(alpha)"
   ]
  },
  {
   "cell_type": "code",
   "execution_count": 13,
   "id": "499ac996",
   "metadata": {},
   "outputs": [
    {
     "name": "stdout",
     "output_type": "stream",
     "text": [
      "original: Al=ph!a?\n",
      "reversed: ah=pl!A?\n",
      "['=', '!', '?']\n",
      "positions of spl chars:[2, 5, 7]\n"
     ]
    }
   ],
   "source": [
    "#test string: 'Al=ph!a?'\n",
    "original='Al=ph!a?'\n",
    "org_str=[i for i in original]\n",
    "y=[chr(ord('A')+i) for i in range(26)]+[chr(ord('a')+i) for i in range(26)]+[chr(ord('0')+i) for i in range(10)]\n",
    "spl=[]\n",
    "pos=[]\n",
    "alpha=[]\n",
    "for i in org_str:\n",
    "    if i in y:\n",
    "        alpha.append(i)\n",
    "    else:\n",
    "        spl.append(i)\n",
    "alpha=alpha[::-1]\n",
    "insert_splchars()\n",
    "\n",
    "print(f\"original: {''.join(org_str)}\\nreversed: {''.join(alpha)}\\n{spl}\\npositions of spl chars:{pos}\")"
   ]
  },
  {
   "cell_type": "code",
   "execution_count": null,
   "id": "9d8dc917",
   "metadata": {},
   "outputs": [],
   "source": []
  }
 ],
 "metadata": {
  "kernelspec": {
   "display_name": "Python 3 (ipykernel)",
   "language": "python",
   "name": "python3"
  },
  "language_info": {
   "codemirror_mode": {
    "name": "ipython",
    "version": 3
   },
   "file_extension": ".py",
   "mimetype": "text/x-python",
   "name": "python",
   "nbconvert_exporter": "python",
   "pygments_lexer": "ipython3",
   "version": "3.9.13"
  }
 },
 "nbformat": 4,
 "nbformat_minor": 5
}
