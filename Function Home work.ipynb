{
 "cells": [
  {
   "cell_type": "code",
   "execution_count": 6,
   "id": "a91cdcb2",
   "metadata": {},
   "outputs": [
    {
     "name": "stdout",
     "output_type": "stream",
     "text": [
      "enter any two numbers\n",
      "2\n",
      "5\n",
      "sum= 7\n",
      "diff= -3\n",
      "prod= 10\n",
      "Q= 2\n",
      "Rem 0.4\n"
     ]
    },
    {
     "data": {
      "text/plain": [
       "'end'"
      ]
     },
     "execution_count": 6,
     "metadata": {},
     "output_type": "execute_result"
    }
   ],
   "source": [
    "print(\"enter any two numbers\")\n",
    "x=int(input())\n",
    "y=int(input())\n",
    "def operation(x,y):\n",
    "    sum=x+y\n",
    "    print(\"sum=\",sum)\n",
    "    \n",
    "    sub=x-y\n",
    "    print(\"diff=\",sub)\n",
    "    \n",
    "    m=x*y\n",
    "    print(\"prod=\",m)\n",
    "    \n",
    "    #div= int(x%y)\n",
    "    div= x%y\n",
    "    print(\"Q=\",div)\n",
    "    \n",
    "    #mod=int(x/y)\n",
    "    mod=x/y\n",
    "    print(\"Rem\",mod)\n",
    "    \n",
    "    return('end')\n",
    "    \n",
    "operation(x,y)\n"
   ]
  },
  {
   "cell_type": "code",
   "execution_count": 7,
   "id": "c6d8bc65",
   "metadata": {},
   "outputs": [
    {
     "name": "stdout",
     "output_type": "stream",
     "text": [
      "enter any two numbers\n",
      "2\n",
      "5\n"
     ]
    },
    {
     "data": {
      "text/plain": [
       "(7, -3, 10, 2, 0.4)"
      ]
     },
     "execution_count": 7,
     "metadata": {},
     "output_type": "execute_result"
    }
   ],
   "source": [
    "print(\"enter any two numbers\")\n",
    "x=int(input())\n",
    "y=int(input())\n",
    "def operation(x,y):\n",
    "    sun=x+y\n",
    "    #print(\"sum=\",sun)\n",
    "    \n",
    "    sub=x-y\n",
    "    #print(\"diff=\",sub)\n",
    "    \n",
    "    m=x*y\n",
    "    #print(\"prod=\",m)\n",
    "    \n",
    "    #div= int(x%y)\n",
    "    div= x%y\n",
    "    #print(\"Q=\",div)\n",
    "    \n",
    "    #mod=int(x/y)\n",
    "    mod=x/y\n",
    "    #print(\"Rem\",mod)\n",
    "    \n",
    "    return(sun,sub,m,div,mod)\n",
    "    \n",
    "operation(x,y)\n"
   ]
  },
  {
   "cell_type": "code",
   "execution_count": 2,
   "id": "c8fb5a5c",
   "metadata": {},
   "outputs": [
    {
     "data": {
      "text/plain": [
       "9"
      ]
     },
     "execution_count": 2,
     "metadata": {},
     "output_type": "execute_result"
    }
   ],
   "source": [
    "def add(a,b):\n",
    "    #a+b\n",
    "    return a+b\n",
    "add(4,5)"
   ]
  },
  {
   "cell_type": "code",
   "execution_count": 20,
   "id": "f0217254",
   "metadata": {},
   "outputs": [
    {
     "data": {
      "text/plain": [
       "'Hibro'"
      ]
     },
     "execution_count": 20,
     "metadata": {},
     "output_type": "execute_result"
    }
   ],
   "source": [
    "def string():\n",
    "    a= \"Hi\"\n",
    "    b= \"bro\"\n",
    "    return a+b\n",
    "string()\n",
    "#print(string())"
   ]
  },
  {
   "cell_type": "code",
   "execution_count": 10,
   "id": "c669f188",
   "metadata": {},
   "outputs": [
    {
     "data": {
      "text/plain": [
       "'Hb'"
      ]
     },
     "execution_count": 10,
     "metadata": {},
     "output_type": "execute_result"
    }
   ],
   "source": [
    "def string(p,k):\n",
    "    a= \"Hi\"\n",
    "    b= \"bro\"\n",
    "    return p+k\n",
    "a=\"H\"\n",
    "b=\"b\"\n",
    "string(a,b)\n",
    "#print(string())"
   ]
  },
  {
   "cell_type": "code",
   "execution_count": null,
   "id": "06d0bafb",
   "metadata": {},
   "outputs": [],
   "source": []
  }
 ],
 "metadata": {
  "kernelspec": {
   "display_name": "Python 3 (ipykernel)",
   "language": "python",
   "name": "python3"
  },
  "language_info": {
   "codemirror_mode": {
    "name": "ipython",
    "version": 3
   },
   "file_extension": ".py",
   "mimetype": "text/x-python",
   "name": "python",
   "nbconvert_exporter": "python",
   "pygments_lexer": "ipython3",
   "version": "3.9.13"
  }
 },
 "nbformat": 4,
 "nbformat_minor": 5
}
