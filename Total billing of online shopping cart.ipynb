{
 "cells": [
  {
   "cell_type": "code",
   "execution_count": null,
   "id": "a71d1c94",
   "metadata": {},
   "outputs": [],
   "source": [
    "def count_ways(x, y, a, b):\n",
    "    # Create a 2D array to store the number of ways\n",
    "    dp = [[0] * (b + 1) for _ in range(a + 1)]\n",
    "    \n",
    "    dp[x][y] = 1 # Base case: there is only one way to reach the starting point (x, y)\n",
    "\n",
    "    # Fill the dp table\n",
    "    dp = [[1 if i == x and j == y else dp[i - 1][j] + dp[i][j - 1] for j in range(b + 1)] for i in range(x, a + 1)]\n",
    "\n",
    "    # The result is stored in the bottom-right cell\n",
    "    return dp[-1][-1]\n",
    "\n",
    "# inputs\n",
    "x=int(input('enter x:'))\n",
    "y=int(input('enter y:'))\n",
    "start=(x,y)\n",
    "\n",
    "a=int(input('enter a:'))\n",
    "b=int(input('enter b:'))\n",
    "end=(a,b)\n",
    "ways=count_ways(x, y, a, b)\n",
    "print(f\"start point (x,y):{start},end point (a,b):{end}\")\n",
    "print(\"Total number of ways to deliver at point (a, b):\",ways )"
   ]
  },
  {
   "cell_type": "code",
   "execution_count": null,
   "id": "b6a6c6d5",
   "metadata": {},
   "outputs": [],
   "source": [
    "2"
   ]
  }
 ],
 "metadata": {
  "kernelspec": {
   "display_name": "Python 3 (ipykernel)",
   "language": "python",
   "name": "python3"
  },
  "language_info": {
   "codemirror_mode": {
    "name": "ipython",
    "version": 3
   },
   "file_extension": ".py",
   "mimetype": "text/x-python",
   "name": "python",
   "nbconvert_exporter": "python",
   "pygments_lexer": "ipython3",
   "version": "3.9.13"
  }
 },
 "nbformat": 4,
 "nbformat_minor": 5
}
