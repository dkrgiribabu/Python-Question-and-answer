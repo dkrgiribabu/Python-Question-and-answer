{
 "cells": [
  {
   "cell_type": "code",
   "execution_count": 21,
   "id": "a55984d6",
   "metadata": {},
   "outputs": [],
   "source": [
    "def convrter(USD):\n",
    "    rupees=USD*83.11\n",
    "    return rupees\n",
    "def SI(p,t,r):\n",
    "    si=(p*t*r)/100\n",
    "    return si\n"
   ]
  },
  {
   "cell_type": "code",
   "execution_count": 22,
   "id": "147bdee8",
   "metadata": {},
   "outputs": [
    {
     "data": {
      "text/plain": [
       "3600.0"
      ]
     },
     "execution_count": 22,
     "metadata": {},
     "output_type": "execute_result"
    }
   ],
   "source": [
    "convrter(35)\n",
    "SI(30000,1,12)"
   ]
  },
  {
   "cell_type": "code",
   "execution_count": 120,
   "id": "c9a1ff0d",
   "metadata": {},
   "outputs": [],
   "source": [
    "def BD(name,num):\n",
    "    print(\"Hello\",name+'.This is your intrest money '+num,'INR')\n",
    "    return('end')"
   ]
  },
  {
   "cell_type": "code",
   "execution_count": 121,
   "id": "1f37ecb0",
   "metadata": {},
   "outputs": [
    {
     "name": "stdout",
     "output_type": "stream",
     "text": [
      "Hello Abhi.This is your intrest money 3324.4 INR\n"
     ]
    },
    {
     "data": {
      "text/plain": [
       "'end'"
      ]
     },
     "execution_count": 121,
     "metadata": {},
     "output_type": "execute_result"
    }
   ],
   "source": [
    "BD('Abhi','3324.4')"
   ]
  },
  {
   "cell_type": "code",
   "execution_count": 127,
   "id": "d37b0a0a",
   "metadata": {},
   "outputs": [
    {
     "name": "stdout",
     "output_type": "stream",
     "text": [
      "enter the dimensions of your plot \n",
      "Note: we provide services only for regular figures \n"
     ]
    }
   ],
   "source": [
    "print(\"enter the dimensions of your plot \\nNote: we provide services only for regular figures \")\n",
    "def cost_fence(n,side):\n",
    "    fens_lengt=x*s\n",
    "    return fens_lengt"
   ]
  },
  {
   "cell_type": "code",
   "execution_count": 129,
   "id": "0dbe6516",
   "metadata": {},
   "outputs": [
    {
     "name": "stdout",
     "output_type": "stream",
     "text": [
      "no.of sides 3\n",
      "length of side 2\n"
     ]
    },
    {
     "data": {
      "text/plain": [
       "6"
      ]
     },
     "execution_count": 129,
     "metadata": {},
     "output_type": "execute_result"
    }
   ],
   "source": [
    "x=int(input('no.of sides '))\n",
    "s=int(input('length of side '))\n",
    "cost_fence(x,s)"
   ]
  },
  {
   "cell_type": "code",
   "execution_count": 1,
   "id": "e53a3f38",
   "metadata": {},
   "outputs": [],
   "source": [
    "def slp(y,c,x):\n",
    "    l=(y-c)/x\n",
    "    return('Line slope',l) "
   ]
  },
  {
   "cell_type": "code",
   "execution_count": 2,
   "id": "05c04d75",
   "metadata": {},
   "outputs": [
    {
     "data": {
      "text/plain": [
       "('Line slope', 1.2)"
      ]
     },
     "execution_count": 2,
     "metadata": {},
     "output_type": "execute_result"
    }
   ],
   "source": [
    "slp(10,4,5)"
   ]
  },
  {
   "cell_type": "code",
   "execution_count": 25,
   "id": "3076ec10",
   "metadata": {},
   "outputs": [
    {
     "name": "stdout",
     "output_type": "stream",
     "text": [
      "hegiri\n",
      "isgiri\n",
      "goodgiri\n"
     ]
    },
    {
     "data": {
      "text/plain": [
       "'end'"
      ]
     },
     "execution_count": 25,
     "metadata": {},
     "output_type": "execute_result"
    }
   ],
   "source": [
    "def function(a,s):\n",
    "    #a=['he','is','good']\n",
    "    #s= []\n",
    "    for i in a:\n",
    "        s=i+'giri'\n",
    "        print(s)\n",
    "    return 'end'\n",
    "function(['he','is','good'],['giri'])"
   ]
  },
  {
   "cell_type": "code",
   "execution_count": 2,
   "id": "1cedf1d9",
   "metadata": {},
   "outputs": [
    {
     "name": "stdout",
     "output_type": "stream",
     "text": [
      "['h', 'e', 'n', 'p', 'a', 't']\n"
     ]
    }
   ],
   "source": [
    "#1. convert the given strings as single list using the list comprehension\n",
    "m='hen'\n",
    "n='pat'\n",
    "x=[i for i in m]+[j for j in n]\n",
    "print(x)"
   ]
  },
  {
   "cell_type": "code",
   "execution_count": 3,
   "id": "fb55ee99",
   "metadata": {},
   "outputs": [
    {
     "name": "stdout",
     "output_type": "stream",
     "text": [
      "97\n"
     ]
    }
   ],
   "source": [
    "x='a'\n",
    "print(ord(x))"
   ]
  },
  {
   "cell_type": "code",
   "execution_count": 5,
   "id": "c063778e",
   "metadata": {},
   "outputs": [
    {
     "name": "stdout",
     "output_type": "stream",
     "text": [
      "enter any two numbers\n",
      "58\n",
      "99\n"
     ]
    },
    {
     "data": {
      "text/plain": [
       "(157, -41, 5742, 58, 0.5858585858585859)"
      ]
     },
     "execution_count": 5,
     "metadata": {},
     "output_type": "execute_result"
    }
   ],
   "source": [
    "print(\"enter any two numbers\")\n",
    "x=int(input())\n",
    "y=int(input())\n",
    "def operation(x,y):\n",
    "    sun=x+y\n",
    "    sub=x-y\n",
    "    m=x*y\n",
    "    div= x%y\n",
    "    mod=x/y\n",
    "    return(sun,sub,m,div,mod)\n",
    "operation(x,y)\n"
   ]
  },
  {
   "cell_type": "code",
   "execution_count": 6,
   "id": "e9a0a0d1",
   "metadata": {},
   "outputs": [
    {
     "data": {
      "text/plain": [
       "'Hibro'"
      ]
     },
     "execution_count": 6,
     "metadata": {},
     "output_type": "execute_result"
    }
   ],
   "source": [
    "def string():\n",
    "    a= \"Hi\"\n",
    "    b= \"bro\"\n",
    "    return a+b\n",
    "string()"
   ]
  },
  {
   "cell_type": "code",
   "execution_count": 7,
   "id": "0e0f3f5a",
   "metadata": {},
   "outputs": [
    {
     "data": {
      "text/plain": [
       "'Doughnuts'"
      ]
     },
     "execution_count": 7,
     "metadata": {},
     "output_type": "execute_result"
    }
   ],
   "source": [
    "def string(a,b):\n",
    "    a= x\n",
    "    b= y\n",
    "    return a+b\n",
    "x=\"Dough\"\n",
    "y=\"nuts\"\n",
    "string(x,y)"
   ]
  },
  {
   "cell_type": "code",
   "execution_count": 23,
   "id": "e50819c5",
   "metadata": {},
   "outputs": [
    {
     "data": {
      "text/plain": [
       "([-1, 0, 1], [1, 2, 3])"
      ]
     },
     "execution_count": 23,
     "metadata": {},
     "output_type": "execute_result"
    }
   ],
   "source": [
    "# cretae a function in that takes two inputs and substract int 2 from each element. in the list\n",
    "def subelem(list1,list2):\n",
    "    l=[]\n",
    "    m=[]\n",
    "    for i in list1:\n",
    "        i=i-2\n",
    "        l.append(i)\n",
    "    for j in list2:\n",
    "        j=j-2\n",
    "        m.append(j)\n",
    "    return (l,m)\n",
    "subelem([1,2,3],[3,4,5]) # input in function is to be mind"
   ]
  },
  {
   "cell_type": "code",
   "execution_count": 24,
   "id": "fe81182b",
   "metadata": {},
   "outputs": [
    {
     "name": "stdout",
     "output_type": "stream",
     "text": [
      "2 2 5 5\n"
     ]
    }
   ],
   "source": [
    "a=1\n",
    "b=2\n",
    "c=5\n",
    "d=8\n",
    "a,d=b,c\n",
    "print(a,b,c,d)"
   ]
  },
  {
   "cell_type": "code",
   "execution_count": null,
   "id": "bb065380",
   "metadata": {},
   "outputs": [],
   "source": []
  }
 ],
 "metadata": {
  "kernelspec": {
   "display_name": "Python 3 (ipykernel)",
   "language": "python",
   "name": "python3"
  },
  "language_info": {
   "codemirror_mode": {
    "name": "ipython",
    "version": 3
   },
   "file_extension": ".py",
   "mimetype": "text/x-python",
   "name": "python",
   "nbconvert_exporter": "python",
   "pygments_lexer": "ipython3",
   "version": "3.9.13"
  }
 },
 "nbformat": 4,
 "nbformat_minor": 5
}
