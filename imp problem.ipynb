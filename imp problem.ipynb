{
 "cells": [
  {
   "cell_type": "code",
   "execution_count": 16,
   "id": "34ff03a7",
   "metadata": {},
   "outputs": [
    {
     "name": "stdout",
     "output_type": "stream",
     "text": [
      "em\n",
      "False\n"
     ]
    }
   ],
   "source": []
  },
  {
   "cell_type": "code",
   "execution_count": 36,
   "id": "cbd34f0e",
   "metadata": {},
   "outputs": [
    {
     "name": "stdout",
     "output_type": "stream",
     "text": [
      "['p', 'a', 'l', 'i', 'n', 'd', 'r', 'o', 'm', 'e']\n"
     ]
    }
   ],
   "source": [
    "# 1. Sort the give string into a list using the list\n",
    "m='palindrome'\n",
    "z=[]\n",
    "for i in m:\n",
    "    z.append(i)\n",
    "print(z)\n"
   ]
  },
  {
   "cell_type": "code",
   "execution_count": 51,
   "id": "6741453c",
   "metadata": {},
   "outputs": [
    {
     "name": "stdout",
     "output_type": "stream",
     "text": [
      "['h', 'e', 'n'] ['p', 'a', 't']\n"
     ]
    }
   ],
   "source": [
    "#1. Sort the given strings as individual elements using the list comprehension\n",
    "m='hen'\n",
    "n='pat'\n",
    "x=[i for i in m]\n",
    "y=[j for j in n]\n",
    "print(x,y)"
   ]
  },
  {
   "cell_type": "code",
   "execution_count": 4,
   "id": "48d4e53f",
   "metadata": {},
   "outputs": [
    {
     "name": "stdout",
     "output_type": "stream",
     "text": [
      "['h', 'a', 'n', '=', ':', 's', '!']\n",
      "['h']\n",
      "['h', 'a']\n",
      "['h', 'a', 'n']\n",
      "['h', 'a', 'n', '=']\n",
      "['h', 'a', 'n', '=', ':']\n",
      "['h', 'a', 'n', '=', ':', 's']\n",
      "['h', 'a', 'n', '=', ':', 's', '!']\n"
     ]
    }
   ],
   "source": [
    "text='han=:s!'\n",
    "text_list=[i for i in text]\n",
    "print(text_list)\n",
    "text_nochar=[]\n",
    "for i in text_list:\n",
    "    if i in text_list:\n",
    "        text_nochar.append(i)\n",
    "    print(text_nochar)"
   ]
  },
  {
   "cell_type": "code",
   "execution_count": 71,
   "id": "86f510d9",
   "metadata": {},
   "outputs": [
    {
     "name": "stdout",
     "output_type": "stream",
     "text": [
      "['A', 'B', 'C', 'D', 'E', 'F', 'G', 'H', 'I', 'J', 'K', 'L', 'M', 'N', 'O', 'P', 'Q', 'R', 'S', 'T', 'U', 'V', 'W', 'X', 'Y', 'Z', 'a', 'b', 'c', 'd', 'e', 'f', 'g', 'h', 'i', 'j', 'k', 'l', 'm', 'n', 'o', 'p', 'q', 'r', 's', 't', 'u', 'v', 'w', 'x', 'y', 'z', '0', '1', '2', '3', '4', '5', '6', '7', '8']\n"
     ]
    }
   ],
   "source": []
  },
  {
   "cell_type": "code",
   "execution_count": 1,
   "id": "fc6025bb",
   "metadata": {},
   "outputs": [
    {
     "name": "stdout",
     "output_type": "stream",
     "text": [
      "original string:Test1ngLeet=code-Q!\n",
      "reversed string: QedocteeLgn=1tse-T!\n"
     ]
    }
   ],
   "source": [
    "#reverse the string without affecting the special characters of the string: 'Test1ngLeet=code-Q!'\n",
    "# Step 1 : to take only alphabets of upper and lower as a seperate list\n",
    "\n",
    "alpha_list= [chr(ord('A') + i) for i in range(26)]+[chr(ord('a')+i) for i in range(26)]+[chr(ord('0')+i) for i in range(9)]\n",
    "##--------------------------------Actual logic---------------------###\n",
    "#Step 2: text=input('enter the string:')\n",
    "text='Test1ngLeet=code-Q!'\n",
    "text_list=[i for i in text]\n",
    "#print(text_list)\n",
    "\n",
    "#Step 3: seperate alphabets and special chars from the given string\n",
    "text_nochar=[]\n",
    "text_alpha=[]\n",
    "for i in text_list:\n",
    "    if i in alpha_list:\n",
    "        text_alpha.append(i)\n",
    "    else:\n",
    "        text_nochar.append(i)\n",
    "\n",
    "# Step 4: reversing the seperated list of alphabets only\n",
    "reversd=text_alpha[::-1]\n",
    "# Step 5: concatinate the special charactes in the positions of the original string's special characters\n",
    "for i in range(len(text_list)):\n",
    "    for j in range(len(text_nochar)):\n",
    "        if text_nochar[j]!=text_list[i]:\n",
    "            continue\n",
    "        else:\n",
    "            reversd.insert(i,text_nochar[j])\n",
    "reversd=''.join(reversd)\n",
    "print(f\"original string:{text}\\nreversed string: {reversd}\")"
   ]
  },
  {
   "cell_type": "code",
   "execution_count": 2,
   "id": "2e9fab63",
   "metadata": {},
   "outputs": [
    {
     "name": "stdout",
     "output_type": "stream",
     "text": [
      "original string:Test1ngLeet=code-Q!\n",
      "reversed string: QedocteeLgn=1tse-T!\n"
     ]
    }
   ],
   "source": [
    "alpha_list= [chr(ord('A') + i) for i in range(26)]+[chr(ord('a')+i) for i in range(26)]+[chr(ord('0')+i) for i in range(9)]\n",
    "\n",
    "text='Test1ngLeet=code-Q!'\n",
    "text_list=[i for i in text]\n",
    "\n",
    "text_nochar=[i for i in text_list if i not in alpha_list]\n",
    "text_alpha=[i for i in text_list if i in alpha_list ]\n",
    "reversd=text_alpha[::-1]\n",
    "\n",
    "for i in range(len(text_list)):\n",
    "    for j in range(len(text_nochar)):\n",
    "        if text_nochar[j]!=text_list[i]:\n",
    "            continue\n",
    "        else:\n",
    "            reversd.insert(i,text_nochar[j])\n",
    "reversd=''.join(reversd)\n",
    "print(f\"original string:{text}\\nreversed string: {reversd}\")"
   ]
  },
  {
   "cell_type": "code",
   "execution_count": 48,
   "id": "9b262fe4",
   "metadata": {},
   "outputs": [
    {
     "name": "stdout",
     "output_type": "stream",
     "text": [
      "original string:Test1ngLeet=code-Q!\n",
      "reversed string: ['QedocteeLgn=1tse-T!']\n"
     ]
    }
   ],
   "source": [
    "reversed_list = [text_nochar[j] for j in range(len(text_nochar)) for i in range(len(text_list)) if text_nochar[j] == text_list[i]]\n"
   ]
  },
  {
   "cell_type": "code",
   "execution_count": 53,
   "id": "d8541461",
   "metadata": {},
   "outputs": [
    {
     "name": "stdout",
     "output_type": "stream",
     "text": [
      "olle=h?\n"
     ]
    }
   ],
   "source": [
    "x = 'hell=o?'\n",
    "y = '=?'\n",
    "rev = 'olleh'\n",
    "\n",
    "# Convert `rev` to a list to allow insertion\n",
    "rev = list(rev)\n",
    "\n",
    "for i in range(len(x)):\n",
    "    for j in range(len(y)):\n",
    "        if y[j] != x[i]:\n",
    "            continue\n",
    "        else:\n",
    "            # Use `insert()` method to insert `y[j]` into `rev` at position `i`\n",
    "            rev.insert(i, y[j])\n",
    "\n",
    "# Convert `rev` back to a string after modifications\n",
    "rev = ''.join(rev)\n",
    "print(rev)"
   ]
  },
  {
   "cell_type": "code",
   "execution_count": 16,
   "id": "5071011f",
   "metadata": {},
   "outputs": [
    {
     "name": "stdout",
     "output_type": "stream",
     "text": [
      "a\n",
      "m\n",
      "e\n",
      "r\n",
      "i\n",
      "c\n",
      "a\n"
     ]
    }
   ],
   "source": [
    "x='america'\n",
    "for i in range(len(x)):\n",
    "    print(x[i])"
   ]
  },
  {
   "cell_type": "code",
   "execution_count": 46,
   "id": "c2234a20",
   "metadata": {},
   "outputs": [
    {
     "name": "stdout",
     "output_type": "stream",
     "text": [
      "97\n"
     ]
    }
   ],
   "source": [
    "x='a'\n",
    "print(ord(x))"
   ]
  },
  {
   "cell_type": "code",
   "execution_count": 5,
   "id": "9a805325",
   "metadata": {},
   "outputs": [
    {
     "name": "stdout",
     "output_type": "stream",
     "text": [
      "['A', 'B', 'C', 'D', 'E', 'F', 'G', 'H', 'I', 'J', 'K', 'L', 'M', 'N', 'O', 'P', 'Q', 'R', 'S', 'T', 'U', 'V', 'W', 'X', 'Y', 'Z']\n"
     ]
    }
   ],
   "source": [
    "alpha_list=[]\n",
    "for i in range(26):\n",
    "    letter = chr(ord('A') + i)\n",
    "    alpha_list.append(letter)\n",
    "print(alpha_list)"
   ]
  },
  {
   "cell_type": "code",
   "execution_count": 39,
   "id": "3a3ce246",
   "metadata": {},
   "outputs": [],
   "source": []
  },
  {
   "cell_type": "code",
   "execution_count": 12,
   "id": "e1ed2ddd",
   "metadata": {},
   "outputs": [],
   "source": []
  },
  {
   "cell_type": "code",
   "execution_count": null,
   "id": "f6ceeb1b",
   "metadata": {},
   "outputs": [],
   "source": []
  }
 ],
 "metadata": {
  "kernelspec": {
   "display_name": "Python 3 (ipykernel)",
   "language": "python",
   "name": "python3"
  },
  "language_info": {
   "codemirror_mode": {
    "name": "ipython",
    "version": 3
   },
   "file_extension": ".py",
   "mimetype": "text/x-python",
   "name": "python",
   "nbconvert_exporter": "python",
   "pygments_lexer": "ipython3",
   "version": "3.9.13"
  }
 },
 "nbformat": 4,
 "nbformat_minor": 5
}
