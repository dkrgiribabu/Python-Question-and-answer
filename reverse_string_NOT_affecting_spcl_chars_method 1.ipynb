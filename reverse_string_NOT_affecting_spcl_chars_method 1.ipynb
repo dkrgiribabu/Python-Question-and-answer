{
 "cells": [
  {
   "cell_type": "code",
   "execution_count": 1,
   "id": "fc6025bb",
   "metadata": {},
   "outputs": [
    {
     "name": "stdout",
     "output_type": "stream",
     "text": [
      "original string:Test1ngLeet=code-Q!\n",
      "reversed string: QedocteeLgn=1tse-T!\n"
     ]
    }
   ],
   "source": [
    "#reverse the string without affecting the special characters of the string: 'Test1ngLeet=code-Q!'\n",
    "# Step 1 : to take only alphabets of upper and lower as a seperate list\n",
    "\n",
    "alpha_list= [chr(ord('A') + i) for i in range(26)]+[chr(ord('a')+i) for i in range(26)]+[chr(ord('0')+i) for i in range(9)]\n",
    "##--------------------------------Actual logic---------------------###\n",
    "#Step 2: text=input('enter the string:')\n",
    "text='Test1ngLeet=code-Q!'\n",
    "text_list=[i for i in text]\n",
    "\n",
    "#Step 3: seperate alphabets and special chars from the given string\n",
    "text_nochar=[]\n",
    "text_alpha=[]\n",
    "for i in text_list:\n",
    "    if i in alpha_list:\n",
    "        text_alpha.append(i)\n",
    "    else:\n",
    "        text_nochar.append(i)\n",
    "\n",
    "# Step 4: reversing the seperated list of alphabets only\n",
    "reversd=text_alpha[::-1]\n",
    "# Step 5: concatinate the special charactes in the positions of the original string's special characters\n",
    "for i in range(len(text_list)):\n",
    "    for j in range(len(text_nochar)):\n",
    "        if text_nochar[j]!=text_list[i]:\n",
    "            continue\n",
    "        else:\n",
    "            reversd.insert(i,text_nochar[j])\n",
    "reversd=''.join(reversd)\n",
    "print(f\"original string:{text}\\nreversed string: {reversd}\")"
   ]
  },
  {
   "cell_type": "code",
   "execution_count": 48,
   "id": "9b262fe4",
   "metadata": {},
   "outputs": [
    {
     "name": "stdout",
     "output_type": "stream",
     "text": [
      "original string:Test1ngLeet=code-Q!\n",
      "reversed string: ['QedocteeLgn=1tse-T!']\n"
     ]
    }
   ],
   "source": [
    "reversed_list = [text_nochar[j] for j in range(len(text_nochar)) for i in range(len(text_list)) if text_nochar[j] == text_list[i]]\n"
   ]
  },
  {
   "cell_type": "code",
   "execution_count": null,
   "id": "b3e74bd7",
   "metadata": {},
   "outputs": [],
   "source": []
  }
 ],
 "metadata": {
  "kernelspec": {
   "display_name": "Python 3 (ipykernel)",
   "language": "python",
   "name": "python3"
  },
  "language_info": {
   "codemirror_mode": {
    "name": "ipython",
    "version": 3
   },
   "file_extension": ".py",
   "mimetype": "text/x-python",
   "name": "python",
   "nbconvert_exporter": "python",
   "pygments_lexer": "ipython3",
   "version": "3.9.13"
  }
 },
 "nbformat": 4,
 "nbformat_minor": 5
}
