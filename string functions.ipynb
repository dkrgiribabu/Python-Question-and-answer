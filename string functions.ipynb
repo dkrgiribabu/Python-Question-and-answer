{
 "cells": [
  {
   "cell_type": "code",
   "execution_count": 18,
   "id": "972400cd",
   "metadata": {},
   "outputs": [],
   "source": [
    "def string(a,b):\n",
    "    a= x\n",
    "    b= y\n",
    "    return a+b"
   ]
  },
  {
   "cell_type": "code",
   "execution_count": 19,
   "id": "88c6afb7",
   "metadata": {},
   "outputs": [
    {
     "data": {
      "text/plain": [
       "'Doughnuts'"
      ]
     },
     "execution_count": 19,
     "metadata": {},
     "output_type": "execute_result"
    }
   ],
   "source": [
    "x=\"Dough\"\n",
    "y=\"nuts\"\n",
    "string(x,b)"
   ]
  },
  {
   "cell_type": "code",
   "execution_count": 20,
   "id": "0f689b14",
   "metadata": {},
   "outputs": [],
   "source": [
    "def string(a,b):\n",
    "    a= \"Hi\"\n",
    "    b= \"bro\"\n",
    "    return a+b"
   ]
  }
 ],
 "metadata": {
  "kernelspec": {
   "display_name": "Python 3 (ipykernel)",
   "language": "python",
   "name": "python3"
  },
  "language_info": {
   "codemirror_mode": {
    "name": "ipython",
    "version": 3
   },
   "file_extension": ".py",
   "mimetype": "text/x-python",
   "name": "python",
   "nbconvert_exporter": "python",
   "pygments_lexer": "ipython3",
   "version": "3.9.13"
  }
 },
 "nbformat": 4,
 "nbformat_minor": 5
}
