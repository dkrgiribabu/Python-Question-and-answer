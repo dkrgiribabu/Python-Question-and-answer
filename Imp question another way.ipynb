{
 "cells": [
  {
   "cell_type": "code",
   "execution_count": 16,
   "id": "60df8b65",
   "metadata": {},
   "outputs": [],
   "source": [
    "string=\"Test1ngLeet=code-Q!\""
   ]
  },
  {
   "cell_type": "code",
   "execution_count": 28,
   "id": "2b8a6926",
   "metadata": {},
   "outputs": [
    {
     "name": "stdout",
     "output_type": "stream",
     "text": [
      "['H', '=', 'e', 'n', '!']\n",
      "['=', '!']\n",
      "['!', 'n', 'e', '=', 'H']\n",
      "0iteration org\n",
      "\n",
      "0iteration spl\n",
      "0iteration Xr\n",
      "1iteration Xr\n",
      "2iteration Xr\n",
      "3iteration Xr\n",
      "4iteration Xr\n",
      "1iteration spl\n",
      "0iteration Xr\n",
      "1iteration Xr\n",
      "2iteration Xr\n",
      "3iteration Xr\n",
      "4iteration Xr\n",
      "1iteration org\n",
      "\n",
      "0iteration spl\n",
      "0iteration Xr\n",
      "1iteration Xr\n",
      "2iteration Xr\n",
      "3iteration Xr\n",
      "true\n",
      "4iteration Xr\n",
      "1iteration spl\n",
      "0iteration Xr\n",
      "1iteration Xr\n",
      "2iteration Xr\n",
      "3iteration Xr\n",
      "4iteration Xr\n",
      "2iteration org\n",
      "\n",
      "0iteration spl\n",
      "0iteration Xr\n",
      "1iteration Xr\n",
      "2iteration Xr\n",
      "3iteration Xr\n",
      "4iteration Xr\n",
      "1iteration spl\n",
      "0iteration Xr\n",
      "1iteration Xr\n",
      "2iteration Xr\n",
      "3iteration Xr\n",
      "4iteration Xr\n",
      "3iteration org\n",
      "\n",
      "0iteration spl\n",
      "0iteration Xr\n",
      "1iteration Xr\n",
      "2iteration Xr\n",
      "3iteration Xr\n",
      "4iteration Xr\n",
      "1iteration spl\n",
      "0iteration Xr\n",
      "1iteration Xr\n",
      "2iteration Xr\n",
      "3iteration Xr\n",
      "4iteration Xr\n",
      "4iteration org\n",
      "\n",
      "0iteration spl\n",
      "0iteration Xr\n",
      "1iteration Xr\n",
      "2iteration Xr\n",
      "3iteration Xr\n",
      "4iteration Xr\n",
      "1iteration spl\n",
      "0iteration Xr\n",
      "true\n",
      "1iteration Xr\n",
      "2iteration Xr\n",
      "3iteration Xr\n",
      "4iteration Xr\n",
      "true\n",
      "H=en!\n",
      "=neH!\n"
     ]
    }
   ],
   "source": [
    "#test string: 'Al=ph!a?'\n",
    "original='H=en!'\n",
    "org_str=[i for i in original]\n",
    "y=[chr(ord('A')+i) for i in range(26)]+[chr(ord('a')+i) for i in range(26)]+[chr(ord('0')+i) for i in range(10)]\n",
    "spl=[] #[=,-,!]\n",
    "for i in original:\n",
    "    if i in y:\n",
    "            continue\n",
    "    else:\n",
    "            spl.append(i)\n",
    "Xr=org_str[::-1]\n",
    "print(org_str)\n",
    "print(spl)\n",
    "print(Xr)\n",
    "\n",
    "for i in range(len(org_str)):\n",
    "    print(f\"{i}iteration org\\n\")\n",
    "    for j in range(len(spl)):\n",
    "        print(f\"{j}iteration spl\")\n",
    "        for k in range(len(Xr)):\n",
    "            print(f\"{k}iteration Xr\")\n",
    "            if Xr[k] == spl[j] and spl[j] == org_str[i]:\n",
    "                print('true')\n",
    "                Xr.remove(Xr[k])\n",
    "                Xr.insert(i,spl[j])\n",
    "Xr=''.join(Xr)\n",
    "print(f\"{original}\\n{Xr}\")"
   ]
  },
  {
   "cell_type": "code",
   "execution_count": 39,
   "id": "499ac996",
   "metadata": {},
   "outputs": [
    {
     "name": "stdout",
     "output_type": "stream",
     "text": [
      "Test1ngLeet=code-Q!\n",
      "QedocteeLgn=1tse-T!\n",
      "['=', '-', '!']\n",
      "[11, 16, 18]\n"
     ]
    }
   ],
   "source": [
    "#test string: 'Al=ph!a?'\n",
    "original='Test1ngLeet=code-Q!'\n",
    "org_str=[i for i in original]\n",
    "y=[chr(ord('A')+i) for i in range(26)]+[chr(ord('a')+i) for i in range(26)]+[chr(ord('0')+i) for i in range(10)]\n",
    "spl=[]\n",
    "pos=[]\n",
    "alpha=[]\n",
    "for i in org_str:\n",
    "    if i in y:\n",
    "        alpha.append(i)\n",
    "    else:\n",
    "        spl.append(i)\n",
    "alpha=alpha[::-1]\n",
    "for i in range(len(org_str)):\n",
    "    for j in range(len(spl)):\n",
    "        if org_str[i]!=spl[j]:\n",
    "            continue\n",
    "        else:\n",
    "            pos.append(i)\n",
    "            alpha.insert(i,spl[j])\n",
    "print(f\"{''.join(org_str)}\\n{''.join(alpha)}\\n{spl}\\n{pos}\")"
   ]
  },
  {
   "cell_type": "code",
   "execution_count": 37,
   "id": "8c2247fa",
   "metadata": {},
   "outputs": [
    {
     "name": "stdout",
     "output_type": "stream",
     "text": [
      "QedocteeLgn==1ts-e!-T!\n"
     ]
    }
   ],
   "source": [
    "for m in range(len(pos)):\n",
    "    alpha.insert(pos[m],spl[m])\n",
    "print(''.join(alpha))"
   ]
  },
  {
   "cell_type": "code",
   "execution_count": null,
   "id": "b7354a19",
   "metadata": {},
   "outputs": [],
   "source": []
  }
 ],
 "metadata": {
  "kernelspec": {
   "display_name": "Python 3 (ipykernel)",
   "language": "python",
   "name": "python3"
  },
  "language_info": {
   "codemirror_mode": {
    "name": "ipython",
    "version": 3
   },
   "file_extension": ".py",
   "mimetype": "text/x-python",
   "name": "python",
   "nbconvert_exporter": "python",
   "pygments_lexer": "ipython3",
   "version": "3.9.13"
  }
 },
 "nbformat": 4,
 "nbformat_minor": 5
}
