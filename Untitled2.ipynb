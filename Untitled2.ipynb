{
 "cells": [
  {
   "cell_type": "code",
   "execution_count": 15,
   "id": "ce55436c",
   "metadata": {},
   "outputs": [],
   "source": [
    "def function(a,s):\n",
    "    \n",
    "    for i in a:\n",
    "        s=i+'giri'\n",
    "        print(s)\n",
    "    return "
   ]
  },
  {
   "cell_type": "code",
   "execution_count": 19,
   "id": "a10e7079",
   "metadata": {},
   "outputs": [
    {
     "name": "stdout",
     "output_type": "stream",
     "text": [
      "1giri\n",
      "2giri\n"
     ]
    }
   ],
   "source": [
    "function(['1','2'],'')"
   ]
  },
  {
   "cell_type": "code",
   "execution_count": 14,
   "id": "c3bf1540",
   "metadata": {},
   "outputs": [],
   "source": [
    "def leap(a):\n",
    "    if a%4==0:\n",
    "        leap= True\n",
    "        if a%100==0:\n",
    "            #leap=False\n",
    "            if a%400==0:\n",
    "                leap= True\n",
    "            else:\n",
    "                leap= False\n",
    "        else:\n",
    "            leap= True\n",
    "    else:\n",
    "        leap = False\n",
    "    return leap"
   ]
  },
  {
   "cell_type": "code",
   "execution_count": 15,
   "id": "417e1ace",
   "metadata": {},
   "outputs": [
    {
     "data": {
      "text/plain": [
       "False"
      ]
     },
     "execution_count": 15,
     "metadata": {},
     "output_type": "execute_result"
    }
   ],
   "source": [
    "leap(2500)"
   ]
  },
  {
   "cell_type": "code",
   "execution_count": null,
   "id": "d663a3ea",
   "metadata": {},
   "outputs": [],
   "source": []
  }
 ],
 "metadata": {
  "kernelspec": {
   "display_name": "Python 3 (ipykernel)",
   "language": "python",
   "name": "python3"
  },
  "language_info": {
   "codemirror_mode": {
    "name": "ipython",
    "version": 3
   },
   "file_extension": ".py",
   "mimetype": "text/x-python",
   "name": "python",
   "nbconvert_exporter": "python",
   "pygments_lexer": "ipython3",
   "version": "3.9.13"
  }
 },
 "nbformat": 4,
 "nbformat_minor": 5
}
