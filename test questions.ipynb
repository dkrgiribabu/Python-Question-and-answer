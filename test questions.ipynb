{
 "cells": [
  {
   "cell_type": "code",
   "execution_count": 6,
   "id": "a6a3e13b",
   "metadata": {},
   "outputs": [],
   "source": [
    "# cretae a function in that takes two inputs and substract int 2 from each element. in the list\n",
    "def subelem(list1,list2):\n",
    "    l=[]\n",
    "    m=[]\n",
    "    for i in list1:\n",
    "        i=i-2\n",
    "        l.append(i)\n",
    "    for j in list2:\n",
    "        j=j-2\n",
    "        m.append(j)\n",
    "    return (l,m)"
   ]
  },
  {
   "cell_type": "code",
   "execution_count": 7,
   "id": "d43924ac",
   "metadata": {},
   "outputs": [
    {
     "data": {
      "text/plain": [
       "([-1, 0, 1], [1, 2, 3])"
      ]
     },
     "execution_count": 7,
     "metadata": {},
     "output_type": "execute_result"
    }
   ],
   "source": [
    "subelem([1,2,3],[3,4,5])"
   ]
  },
  {
   "cell_type": "code",
   "execution_count": 2,
   "id": "f22247b1",
   "metadata": {},
   "outputs": [
    {
     "name": "stdout",
     "output_type": "stream",
     "text": [
      "[3, 2, 1]\n"
     ]
    }
   ],
   "source": [
    "let1=[1,2,3]\n",
    "let2=let1[::-1]\n",
    "new=[len(let1)-1]\n",
    "print(let2)"
   ]
  },
  {
   "cell_type": "code",
   "execution_count": 4,
   "id": "8b8e421c",
   "metadata": {},
   "outputs": [
    {
     "name": "stdout",
     "output_type": "stream",
     "text": [
      "3\n"
     ]
    }
   ],
   "source": [
    "l=let1[0]\n",
    "let1[0]=let1[len(let1)-1]\n",
    "print(let1[0])"
   ]
  },
  {
   "cell_type": "code",
   "execution_count": 5,
   "id": "d9196f70",
   "metadata": {},
   "outputs": [
    {
     "name": "stdout",
     "output_type": "stream",
     "text": [
      "8 5 5 8\n"
     ]
    }
   ],
   "source": [
    "a=1\n",
    "b=2\n",
    "c=5\n",
    "d=8\n",
    "a,b=d,c\n",
    "print(a,b,c,d)"
   ]
  },
  {
   "cell_type": "code",
   "execution_count": 3,
   "id": "839f5213",
   "metadata": {},
   "outputs": [
    {
     "name": "stdout",
     "output_type": "stream",
     "text": [
      "!doof evah i\n",
      "!doof evah i\n",
      "!doof evah i\n",
      "!doof evah i\n",
      "!doof evah i\n",
      "!doof evah i\n",
      "!doof evah i\n",
      "!doof evah i\n",
      "!doof evah i\n",
      "12\n"
     ]
    }
   ],
   "source": [
    "s='i have food!'\n",
    "for i in range(len(s)):\n",
    "    \n",
    "    if s[i]>='a' and s[i]<='z':\n",
    "        print(f\"{s[::-1]}\")\n",
    "x=len(s)\n",
    "#start=start+1\n",
    "print(x)"
   ]
  },
  {
   "cell_type": "code",
   "execution_count": null,
   "id": "153c1cca",
   "metadata": {},
   "outputs": [],
   "source": []
  }
 ],
 "metadata": {
  "kernelspec": {
   "display_name": "Python 3 (ipykernel)",
   "language": "python",
   "name": "python3"
  },
  "language_info": {
   "codemirror_mode": {
    "name": "ipython",
    "version": 3
   },
   "file_extension": ".py",
   "mimetype": "text/x-python",
   "name": "python",
   "nbconvert_exporter": "python",
   "pygments_lexer": "ipython3",
   "version": "3.9.13"
  }
 },
 "nbformat": 4,
 "nbformat_minor": 5
}
