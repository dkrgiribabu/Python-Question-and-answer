{
 "cells": [
  {
   "cell_type": "code",
   "execution_count": 21,
   "id": "41d5a382",
   "metadata": {},
   "outputs": [
    {
     "name": "stdout",
     "output_type": "stream",
     "text": [
      "Enter scores for Person 1:\n",
      "Enter score 1: 100\n",
      "Enter score 2: 90\n",
      "Enter score 3: 98\n",
      "Enter scores for Person 2:\n",
      "Enter score 1: 24\n",
      "Enter score 2: 36\n",
      "Enter score 3: 78\n",
      "Person 1 is selected!\n",
      "Person 2 is not selected.\n"
     ]
    }
   ],
   "source": [
    "# Take input for person 1\n",
    "person1_scores = []\n",
    "person2_scores = []\n",
    "print(\"Enter scores for Person 1:\")\n",
    "for i in range(3):\n",
    "    score = int(input(f\"Enter score {i+1}: \"))\n",
    "    person1_scores.append(score)\n",
    "\n",
    "# Take input for person 2\n",
    "print(\"Enter scores for Person 2:\")\n",
    "for i in range(3):\n",
    "    score = int(input(f\"Enter score {i+1}: \"))\n",
    "    person2_scores.append(score)\n",
    "# Compare scores for person 1\n",
    "person1_selected = all([score > 55 for score in person1_scores])  # this gives the boolean 'true' if satisfied else gives 'false'\n",
    "\n",
    "# Compare scores for person 2\n",
    "person2_selected = all([score > 55 for score in person2_scores])\n",
    "\n",
    "# Output results\n",
    "if person1_selected:\n",
    "    print(\"Person 1 is selected!\")\n",
    "else:\n",
    "    print(\"Person 1 is not selected.\")\n",
    "\n",
    "if person2_selected:\n",
    "    print(\"Person 2 is selected!\")\n",
    "else:\n",
    "    print(\"Person 2 is not selected.\")"
   ]
  },
  {
   "cell_type": "code",
   "execution_count": 1,
   "id": "966c6e00",
   "metadata": {},
   "outputs": [
    {
     "name": "stdout",
     "output_type": "stream",
     "text": [
      "Person 1 is selected!\n",
      "Person 2 is not selected.\n"
     ]
    }
   ],
   "source": [
    "# Explanation for boolean\n",
    "if True:\n",
    "    print(\"Person 1 is selected!\")\n",
    "else:\n",
    "    print(\"Person 1 is not selected.\")\n",
    "\n",
    "if False:\n",
    "    print(\"Person 2 is selected!\")\n",
    "else:\n",
    "    print(\"Person 2 is not selected.\")"
   ]
  },
  {
   "cell_type": "code",
   "execution_count": 3,
   "id": "d1427807",
   "metadata": {},
   "outputs": [
    {
     "name": "stdout",
     "output_type": "stream",
     "text": [
      "Enter scores for Person 1:\n",
      "Enter score 1: 100\n",
      "Enter score 2: 98\n",
      "Enter score 3: 89\n",
      "Person 1 scores:[100, 98, 89]\n",
      "\n",
      "Enter scores for Person 2:\n",
      "Enter score 1: 78\n",
      "Enter score 2: 65\n",
      "Enter score 3: 45\n",
      "Person 2 scores:[100, 98, 89]\n",
      "\n",
      "Person 1 is selected!\n",
      "Person 2 is not selected.\n"
     ]
    }
   ],
   "source": [
    "# only using the list comprehensions\n",
    "# Take input for person 1\n",
    "print(\"Enter scores for Person 1:\")\n",
    "person1_scores = [int(input(f\"Enter score {i+1}: \")) for i in range(3)]\n",
    "print(f\"Person 1 scores:{person1_scores}\")\n",
    "\n",
    "# Take input for person 2\n",
    "print(\"\\nEnter scores for Person 2:\")\n",
    "person2_scores = [int(input(f\"Enter score {i+1}: \")) for i in range(3)]\n",
    "print(f\"Person 2 scores:{person1_scores}\")\n",
    "\n",
    "# Compare scores for person 1\n",
    "person1_selected = all([score > 55 for score in person1_scores])\n",
    "\n",
    "# Compare scores for person 2\n",
    "person2_selected = all([score > 55 for score in person2_scores])\n",
    "\n",
    "# Output results\n",
    "print(\"\\nPerson 1 is selected!\" if person1_selected else \"Person 1 is not selected.\")\n",
    "print(\"\\nPerson 2 is selected!\" if person2_selected else \"Person 2 is not selected.\")"
   ]
  },
  {
   "cell_type": "code",
   "execution_count": 11,
   "id": "9787326a",
   "metadata": {},
   "outputs": [
    {
     "name": "stdout",
     "output_type": "stream",
     "text": [
      "False\n"
     ]
    }
   ],
   "source": [
    "print(all([ a>2 for a in range(2)]))"
   ]
  },
  {
   "cell_type": "code",
   "execution_count": null,
   "id": "f9d59e96",
   "metadata": {},
   "outputs": [],
   "source": []
  }
 ],
 "metadata": {
  "kernelspec": {
   "display_name": "Python 3 (ipykernel)",
   "language": "python",
   "name": "python3"
  },
  "language_info": {
   "codemirror_mode": {
    "name": "ipython",
    "version": 3
   },
   "file_extension": ".py",
   "mimetype": "text/x-python",
   "name": "python",
   "nbconvert_exporter": "python",
   "pygments_lexer": "ipython3",
   "version": "3.9.13"
  }
 },
 "nbformat": 4,
 "nbformat_minor": 5
}
