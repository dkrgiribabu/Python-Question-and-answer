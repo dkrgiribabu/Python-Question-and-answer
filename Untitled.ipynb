{
 "cells": [
  {
   "cell_type": "code",
   "execution_count": 6,
   "id": "cc096808",
   "metadata": {},
   "outputs": [
    {
     "name": "stdout",
     "output_type": "stream",
     "text": [
      "enter x:0\n",
      "enter y:0\n",
      "enter a:3\n",
      "enter b:3\n",
      "start point:(0, 0)\n",
      "end point:(3, 3)\n"
     ]
    }
   ],
   "source": [
    "start=(int(input('enter x:')),int(input('enter y:')))\n",
    "end=(int(input('enter a:')),int(input('enter b:')))\n",
    "print(f\"start point:{start}\")\n",
    "print(f\"end point:{end}\")"
   ]
  },
  {
   "cell_type": "code",
   "execution_count": 15,
   "id": "9b1fd18d",
   "metadata": {},
   "outputs": [
    {
     "name": "stdout",
     "output_type": "stream",
     "text": [
      "(2, 4)\n",
      "3\n"
     ]
    }
   ],
   "source": [
    "i=0\n",
    "i=i+1\n",
    "print(f\"{x,y+i}\")\n",
    "print(y)"
   ]
  },
  {
   "cell_type": "code",
   "execution_count": 68,
   "id": "be2e6465",
   "metadata": {},
   "outputs": [
    {
     "name": "stdout",
     "output_type": "stream",
     "text": [
      "enter x:0\n",
      "enter y:0\n",
      "enter a:3\n",
      "enter b:3\n",
      "start point (x,y):(0, 0),end point (a,b):(3, 3)\n",
      "Total number of ways to deliver at point (a, b): 20\n"
     ]
    }
   ],
   "source": [
    "def count_ways(x, y, a, b):\n",
    "    # Create a 2D array to store the number of ways\n",
    "    out = [[0] * (b + 1) for l in range(a + 1)]\n",
    "    # Base case: there is only one way to reach the starting point (x, y)\n",
    "    out[x][y] = 1\n",
    "\n",
    "    # Fill the table\n",
    "    for i in range(x, a + 1):\n",
    "        for j in range(y, b + 1):\n",
    "            # If current cell is not the starting point\n",
    "            if i != x or j != y:\n",
    "                # The number of ways to reach current cell is the sum of ways to reach\n",
    "                # cell (i-1, j) and cell (i, j-1)\n",
    "                out[i][j] = out[i - 1][j] + out[i][j - 1]\n",
    "\n",
    "    # The result is stored in the bottom-right cell\n",
    "    return out[a][b]\n",
    "\n",
    "# inputs\n",
    "x=int(input('enter x:'))\n",
    "y=int(input('enter y:'))\n",
    "start=(x,y)\n",
    "\n",
    "a=int(input('enter a:'))\n",
    "b=int(input('enter b:'))\n",
    "end=(a,b)\n",
    "print(f\"start point (x,y):{start},end point (a,b):{end}\")\n",
    "print(\"Total number of ways to deliver at point (a, b):\", count_ways(x, y, a, b))"
   ]
  },
  {
   "cell_type": "code",
   "execution_count": 67,
   "id": "a1644b0d",
   "metadata": {},
   "outputs": [
    {
     "name": "stdout",
     "output_type": "stream",
     "text": [
      "[[1, 1], [1, 1]]\n",
      "[[1, 1], [1, 1]]\n"
     ]
    }
   ],
   "source": [
    "a=1\n",
    "b=1\n",
    "for i in range (0,2):\n",
    "    out = [[1] * (b+1) for l in range(a+1)]\n",
    "    print(out)"
   ]
  },
  {
   "cell_type": "code",
   "execution_count": 52,
   "id": "1a656491",
   "metadata": {},
   "outputs": [
    {
     "name": "stdout",
     "output_type": "stream",
     "text": [
      "enter x:0\n",
      "enter y:0\n",
      "enter a:3\n",
      "enter b:3\n",
      "start point (x,y):(0, 0),end point (a,b):(3, 3)\n",
      "0\n",
      "Total number of ways to deliver at point (a, b): 0\n"
     ]
    }
   ],
   "source": [
    "def count_ways(x, y, a, b):\n",
    "    # Create a 2D array to store the number of ways\n",
    "    dp = [[0] * (b + 1) for l in range(a + 1)]\n",
    "    \n",
    "    dp[x][y] = 1 # Base case: there is only one way to reach the starting point (x, y)\n",
    "\n",
    "    # Fill the dp table\n",
    "    dp = [[dp[i - 1][j] + dp[i][j - 1] if i != x or j != y else dp[i][j] for j in range(b + 1)] for i in range(x, a + 1)]\n",
    "    print(dp[-1][-1])\n",
    "\n",
    "    # The result is stored in the bottom-right cell\n",
    "    return dp[-1][-1]\n",
    "\n",
    "# inputs\n",
    "x=int(input('enter x:'))\n",
    "y=int(input('enter y:'))\n",
    "start=(x,y)\n",
    "\n",
    "a=int(input('enter a:'))\n",
    "b=int(input('enter b:'))\n",
    "end=(a,b)\n",
    "print(f\"start point (x,y):{start},end point (a,b):{end}\")\n",
    "print(\"Total number of ways to deliver at point (a, b):\", count_ways(x, y, a, b))"
   ]
  },
  {
   "cell_type": "code",
   "execution_count": 51,
   "id": "76c3eba6",
   "metadata": {},
   "outputs": [
    {
     "name": "stdout",
     "output_type": "stream",
     "text": [
      "[[1, 0, 0], [0, 0, 0], [0, 0, 0]]\n"
     ]
    }
   ],
   "source": [
    "for i in range(2,2):\n",
    "    dp = [[dp[i - 1][j] + dp[i][j - 1] if i != x or j != y else 1 for j in range(b + 1)] for i in range(x, a + 1)]\n",
    "print(dp)\n",
    "x=0\n",
    "y=0\n",
    "a=2\n",
    "b=2"
   ]
  },
  {
   "cell_type": "code",
   "execution_count": 46,
   "id": "9ff7f8da",
   "metadata": {},
   "outputs": [
    {
     "name": "stdout",
     "output_type": "stream",
     "text": [
      "[[0, 0, 0], [0, 0, 0], [0, 0, 0]]\n",
      "[1, 0, 0]\n"
     ]
    }
   ],
   "source": [
    "dp = [[0] * (b + 1) for l in range(a + 1)]\n",
    "print(dp)\n",
    "dp[x][y] = 1\n",
    "print(dp[x])"
   ]
  },
  {
   "cell_type": "code",
   "execution_count": 8,
   "id": "57574f23",
   "metadata": {},
   "outputs": [
    {
     "ename": "IndexError",
     "evalue": "list index out of range",
     "output_type": "error",
     "traceback": [
      "\u001b[0;31m---------------------------------------------------------------------------\u001b[0m",
      "\u001b[0;31mIndexError\u001b[0m                                Traceback (most recent call last)",
      "Input \u001b[0;32mIn [8]\u001b[0m, in \u001b[0;36m<cell line: 4>\u001b[0;34m()\u001b[0m\n\u001b[1;32m      2\u001b[0m x\u001b[38;5;241m=\u001b[39m\u001b[38;5;241m3\u001b[39m\n\u001b[1;32m      3\u001b[0m y\u001b[38;5;241m=\u001b[39m\u001b[38;5;241m3\u001b[39m\n\u001b[0;32m----> 4\u001b[0m \u001b[43ma\u001b[49m\u001b[43m[\u001b[49m\u001b[43mx\u001b[49m\u001b[43m]\u001b[49m[y]\u001b[38;5;241m=\u001b[39m[[\u001b[38;5;241m1\u001b[39m,\u001b[38;5;241m2\u001b[39m,\u001b[38;5;241m3\u001b[39m],[\u001b[38;5;241m4\u001b[39m,\u001b[38;5;241m5\u001b[39m,\u001b[38;5;241m6\u001b[39m]]\n\u001b[1;32m      5\u001b[0m \u001b[38;5;28mprint\u001b[39m(a[\u001b[38;5;241m2\u001b[39m][\u001b[38;5;241m3\u001b[39m])\n",
      "\u001b[0;31mIndexError\u001b[0m: list index out of range"
     ]
    }
   ],
   "source": [
    "a=[]\n",
    "x=3\n",
    "y=3\n",
    "a[x][y]=[[1,2,3],[4,5,6]]\n",
    "print(a[2][3])"
   ]
  },
  {
   "cell_type": "code",
   "execution_count": 34,
   "id": "26e1c9e8",
   "metadata": {},
   "outputs": [
    {
     "name": "stdout",
     "output_type": "stream",
     "text": [
      "lamok\n"
     ]
    }
   ],
   "source": [
    "string='komal'\n",
    "print(f\"{string[::-1]}\")"
   ]
  },
  {
   "cell_type": "code",
   "execution_count": 15,
   "id": "f1753b68",
   "metadata": {},
   "outputs": [
    {
     "data": {
      "text/plain": [
       "['apple', 'pears']"
      ]
     },
     "execution_count": 15,
     "metadata": {},
     "output_type": "execute_result"
    }
   ],
   "source": [
    "#komal\n",
    "l=['mango','apple','pears','orange']\n",
    "l[1:3]"
   ]
  },
  {
   "cell_type": "code",
   "execution_count": 16,
   "id": "045dc8ce",
   "metadata": {},
   "outputs": [
    {
     "data": {
      "text/plain": [
       "['apple', 'pears', 'orange']"
      ]
     },
     "execution_count": 16,
     "metadata": {},
     "output_type": "execute_result"
    }
   ],
   "source": [
    "l[1:]"
   ]
  },
  {
   "cell_type": "code",
   "execution_count": 29,
   "id": "fc4f7a53",
   "metadata": {},
   "outputs": [
    {
     "data": {
      "text/plain": [
       "['aaj', 'subha', 'kamal']"
      ]
     },
     "execution_count": 29,
     "metadata": {},
     "output_type": "execute_result"
    }
   ],
   "source": [
    "# giri\n",
    "name=['aaj','kal','subha','nahi','kamal']\n",
    "name[0:5:2]"
   ]
  },
  {
   "cell_type": "code",
   "execution_count": 1,
   "id": "c65dd560",
   "metadata": {},
   "outputs": [
    {
     "name": "stdout",
     "output_type": "stream",
     "text": [
      "komal\n"
     ]
    }
   ],
   "source": [
    "names='komal'\n",
    "print(names[:])"
   ]
  },
  {
   "cell_type": "code",
   "execution_count": 4,
   "id": "cc96c9b8",
   "metadata": {},
   "outputs": [
    {
     "name": "stdout",
     "output_type": "stream",
     "text": [
      "lamok\n"
     ]
    }
   ],
   "source": [
    "names='komal'\n",
    "a=''\n",
    "for i in names: \n",
    "    a=i+a\n",
    "print(a)"
   ]
  },
  {
   "cell_type": "code",
   "execution_count": null,
   "id": "15bfce75",
   "metadata": {},
   "outputs": [],
   "source": []
  }
 ],
 "metadata": {
  "kernelspec": {
   "display_name": "Python 3 (ipykernel)",
   "language": "python",
   "name": "python3"
  },
  "language_info": {
   "codemirror_mode": {
    "name": "ipython",
    "version": 3
   },
   "file_extension": ".py",
   "mimetype": "text/x-python",
   "name": "python",
   "nbconvert_exporter": "python",
   "pygments_lexer": "ipython3",
   "version": "3.9.13"
  }
 },
 "nbformat": 4,
 "nbformat_minor": 5
}
